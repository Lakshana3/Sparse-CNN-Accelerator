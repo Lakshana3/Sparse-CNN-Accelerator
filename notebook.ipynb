{
  "cells": [
    {
      "cell_type": "markdown",
      "metadata": {
        "id": "view-in-github",
        "colab_type": "text"
      },
      "source": [
        "<a href=\"https://colab.research.google.com/github/Lakshana3/Sparse-CNN-Accelerator/blob/main/notebook.ipynb\" target=\"_parent\"><img src=\"https://colab.research.google.com/assets/colab-badge.svg\" alt=\"Open In Colab\"/></a>"
      ]
    },
    {
      "cell_type": "markdown",
      "metadata": {
        "id": "grdfFt-gZoTh"
      },
      "source": [
        "## OpenLane Colab\n",
        "\n",
        "This Google Colab notebook will:\n",
        "* Install OpenLane and its dependencies\n",
        "* Run a simple design, namely a serial-parallel multiplier, through the flow\n",
        "  and targeting the [open source sky130 PDK](https://github.com/google/skywater-pdk/)\n",
        "  by Google and Skywater."
      ]
    },
    {
      "cell_type": "code",
      "execution_count": 1,
      "metadata": {
        "colab": {
          "base_uri": "https://localhost:8080/"
        },
        "id": "zcxH-Qz-ZoTm",
        "outputId": "5f2675cb-9aa3-4096-c4ec-8ef2ffcfa855"
      },
      "outputs": [
        {
          "output_type": "stream",
          "name": "stdout",
          "text": [
            "  % Total    % Received % Xferd  Average Speed   Time    Time     Time  Current\n",
            "                                 Dload  Upload   Total   Spent    Left  Speed\n",
            "  0     0    0     0    0     0      0      0 --:--:-- --:--:-- --:--:--     0\n",
            "100  4267  100  4267    0     0   7511      0 --:--:-- --:--:-- --:--:--  7511\n",
            "downloading Nix 2.30.2 binary tarball for x86_64-linux from 'https://releases.nixos.org/nix/nix-2.30.2/nix-2.30.2-x86_64-linux.tar.xz' to '/tmp/nix-binary-tarball-unpack.p7x2NQkd6o'...\n",
            "  % Total    % Received % Xferd  Average Speed   Time    Time     Time  Current\n",
            "                                 Dload  Upload   Total   Spent    Left  Speed\n",
            "100 24.2M  100 24.2M    0     0  95.7M      0 --:--:-- --:--:-- --:--:-- 95.5M\n",
            "Note: a multi-user installation is possible. See https://nixos.org/manual/nix/stable/installation/installing-binary.html#multi-user-installation\n",
            "\u001b[1;31mSwitching to the Multi-user Installer\u001b[0m\n",
            "\u001b[32mWelcome to the Multi-User Nix Installation\n",
            "\u001b[0m\n",
            "This installation tool will set up your computer with the Nix package\n",
            "manager. This will happen in a few stages:\n",
            "\n",
            "1. Make sure your computer doesn't already have Nix. If it does, I\n",
            "   will show you instructions on how to clean up your old install.\n",
            "\n",
            "2. Show you what I am going to install and where. Then I will ask\n",
            "   if you are ready to continue.\n",
            "\n",
            "3. Create the system users \u001b[34m(uids [30001..30032])\u001b[0m and groups \u001b[34m(gid 30000)\u001b[0m\n",
            "   that the Nix daemon uses to run builds. To create system users\n",
            "   in a different range, exit and run this tool again with\n",
            "   NIX_FIRST_BUILD_UID set.\n",
            "\n",
            "4. Perform the basic installation of the Nix files daemon.\n",
            "\n",
            "5. Configure your shell to import special Nix Profile files, so you\n",
            "   can use Nix.\n",
            "\n",
            "6. Start the Nix daemon.\n",
            "\n",
            "\u001b[32m\u001b[4;32mWould you like to see a more detailed list of what I will do?\n",
            "\u001b[0mNo TTY, assuming you would say yes :)\n",
            "\n",
            "I will:\n",
            "\n",
            " - make sure your computer doesn't already have Nix files\n",
            "   (if it does, I will tell you how to clean them up.)\n",
            " - create local users (see the list above for the users I'll make)\n",
            " - create a local group (nixbld)\n",
            " - install Nix in /nix\n",
            " - create a configuration file in /etc/nix\n",
            " - set up the \"default profile\" by creating some Nix-related files in\n",
            "   /root\n",
            " - back up /etc/bash.bashrc to /etc/bash.bashrc.backup-before-nix\n",
            " - update /etc/bash.bashrc to include some Nix configuration\n",
            " - load and start a service (at /etc/systemd/system/nix-daemon.service\n",
            "   and /etc/systemd/system/nix-daemon.socket) for nix-daemon\n",
            "\n",
            "\u001b[32m\u001b[4;32mReady to continue?\n",
            "\u001b[0mNo TTY, assuming you would say yes :)\n",
            "\n",
            "\u001b[32m~~> Checking for artifacts of previous installs\n",
            "\u001b[0mBefore I try to install, I'll check for signs Nix already is or has\n",
            "been installed on this system.\n",
            "\n",
            "\u001b[31m---- warning! ------------------------------------------------------------------\n",
            "\u001b[0mWe did not detect systemd on your system. With a multi-user install\n",
            "without systemd you will have to manually configure your init system to\n",
            "launch the Nix daemon after installation.\n",
            "\n",
            "\u001b[32m\u001b[4;32mDo you want to proceed with a multi-user installation?\n",
            "\u001b[0mNo TTY, assuming you would say yes :)\n",
            "\n",
            "\u001b[34m---- Nix config report ---------------------------------------------------------\n",
            "\u001b[0m\u001b[1m        Temp Dir\u001b[0m:\t/tmp/tmp.gtx62LFIKw\n",
            "\u001b[1m        Nix Root\u001b[0m:\t/nix\n",
            "\u001b[1m     Build Users\u001b[0m:\t32\n",
            "\u001b[1m  Build Group ID\u001b[0m:\t30000\n",
            "\u001b[1mBuild Group Name\u001b[0m:\tnixbld\n",
            "\n",
            "\u001b[4;34mbuild users:\n",
            "\u001b[0m\u001b[1m    Username\u001b[0m:\tUID\n",
            "\u001b[1m     nixbld1\u001b[0m:\t30001\n",
            "\u001b[1m     nixbld2\u001b[0m:\t30002\n",
            "\u001b[1m     nixbld3\u001b[0m:\t30003\n",
            "\u001b[1m     nixbld4\u001b[0m:\t30004\n",
            "\u001b[1m     nixbld5\u001b[0m:\t30005\n",
            "\u001b[1m     nixbld6\u001b[0m:\t30006\n",
            "\u001b[1m     nixbld7\u001b[0m:\t30007\n",
            "\u001b[1m     nixbld8\u001b[0m:\t30008\n",
            "\u001b[1m     nixbld9\u001b[0m:\t30009\n",
            "\u001b[1m     nixbld10\u001b[0m:\t30010\n",
            "\u001b[1m     nixbld11\u001b[0m:\t30011\n",
            "\u001b[1m     nixbld12\u001b[0m:\t30012\n",
            "\u001b[1m     nixbld13\u001b[0m:\t30013\n",
            "\u001b[1m     nixbld14\u001b[0m:\t30014\n",
            "\u001b[1m     nixbld15\u001b[0m:\t30015\n",
            "\u001b[1m     nixbld16\u001b[0m:\t30016\n",
            "\u001b[1m     nixbld17\u001b[0m:\t30017\n",
            "\u001b[1m     nixbld18\u001b[0m:\t30018\n",
            "\u001b[1m     nixbld19\u001b[0m:\t30019\n",
            "\u001b[1m     nixbld20\u001b[0m:\t30020\n",
            "\u001b[1m     nixbld21\u001b[0m:\t30021\n",
            "\u001b[1m     nixbld22\u001b[0m:\t30022\n",
            "\u001b[1m     nixbld23\u001b[0m:\t30023\n",
            "\u001b[1m     nixbld24\u001b[0m:\t30024\n",
            "\u001b[1m     nixbld25\u001b[0m:\t30025\n",
            "\u001b[1m     nixbld26\u001b[0m:\t30026\n",
            "\u001b[1m     nixbld27\u001b[0m:\t30027\n",
            "\u001b[1m     nixbld28\u001b[0m:\t30028\n",
            "\u001b[1m     nixbld29\u001b[0m:\t30029\n",
            "\u001b[1m     nixbld30\u001b[0m:\t30030\n",
            "\u001b[1m     nixbld31\u001b[0m:\t30031\n",
            "\u001b[1m     nixbld32\u001b[0m:\t30032\n",
            "\n",
            "\u001b[32m\u001b[4;32mReady to continue?\n",
            "\u001b[0mNo TTY, assuming you would say yes :)\n",
            "\n",
            "\u001b[32m~~> Setting up the build group nixbld\n",
            "\u001b[0m\n",
            "\u001b[34m---- sudo execution ------------------------------------------------------------\n",
            "\u001b[0mI am executing:\n",
            "\n",
            "    $ sudo groupadd -g 30000 --system nixbld\n",
            "\n",
            "Create the Nix build group, nixbld\n",
            "\n",
            "\u001b[1m            Created\u001b[0m:\tYes\n",
            "\n",
            "\u001b[32m~~> Setting up the build user nixbld1\n",
            "\u001b[0m\n",
            "\u001b[34m---- sudo execution ------------------------------------------------------------\n",
            "\u001b[0mI am executing:\n",
            "\n",
            "    $ sudo useradd --home-dir /var/empty --comment Nix build user 1 --gid 30000 --groups nixbld --no-user-group --system --shell /sbin/nologin --uid 30001 --password ! nixbld1\n",
            "\n",
            "Creating the Nix build user, nixbld1\n",
            "\n",
            "\u001b[1m           Created\u001b[0m:\tYes\n",
            "\u001b[1m            Hidden\u001b[0m:\tYes\n",
            "\u001b[1m    Home Directory\u001b[0m:\t/var/empty\n",
            "\u001b[1m              Note\u001b[0m:\tNix build user 1\n",
            "\u001b[1m   Logins Disabled\u001b[0m:\tYes\n",
            "\u001b[1m  Member of nixbld\u001b[0m:\tYes\n",
            "\u001b[1m    PrimaryGroupID\u001b[0m:\t30000\n",
            "\n",
            "\u001b[32m~~> Setting up the build user nixbld2\n",
            "\u001b[0m\n",
            "\u001b[34m---- sudo execution ------------------------------------------------------------\n",
            "\u001b[0mI am executing:\n",
            "\n",
            "    $ sudo useradd --home-dir /var/empty --comment Nix build user 2 --gid 30000 --groups nixbld --no-user-group --system --shell /sbin/nologin --uid 30002 --password ! nixbld2\n",
            "\n",
            "Creating the Nix build user, nixbld2\n",
            "\n",
            "\u001b[1m           Created\u001b[0m:\tYes\n",
            "\u001b[1m            Hidden\u001b[0m:\tYes\n",
            "\u001b[1m    Home Directory\u001b[0m:\t/var/empty\n",
            "\u001b[1m              Note\u001b[0m:\tNix build user 2\n",
            "\u001b[1m   Logins Disabled\u001b[0m:\tYes\n",
            "\u001b[1m  Member of nixbld\u001b[0m:\tYes\n",
            "\u001b[1m    PrimaryGroupID\u001b[0m:\t30000\n",
            "\n",
            "\u001b[32m~~> Setting up the build user nixbld3\n",
            "\u001b[0m\n",
            "\u001b[34m---- sudo execution ------------------------------------------------------------\n",
            "\u001b[0mI am executing:\n",
            "\n",
            "    $ sudo useradd --home-dir /var/empty --comment Nix build user 3 --gid 30000 --groups nixbld --no-user-group --system --shell /sbin/nologin --uid 30003 --password ! nixbld3\n",
            "\n",
            "Creating the Nix build user, nixbld3\n",
            "\n",
            "\u001b[1m           Created\u001b[0m:\tYes\n",
            "\u001b[1m            Hidden\u001b[0m:\tYes\n",
            "\u001b[1m    Home Directory\u001b[0m:\t/var/empty\n",
            "\u001b[1m              Note\u001b[0m:\tNix build user 3\n",
            "\u001b[1m   Logins Disabled\u001b[0m:\tYes\n",
            "\u001b[1m  Member of nixbld\u001b[0m:\tYes\n",
            "\u001b[1m    PrimaryGroupID\u001b[0m:\t30000\n",
            "\n",
            "\u001b[32m~~> Setting up the build user nixbld4\n",
            "\u001b[0m\n",
            "\u001b[34m---- sudo execution ------------------------------------------------------------\n",
            "\u001b[0mI am executing:\n",
            "\n",
            "    $ sudo useradd --home-dir /var/empty --comment Nix build user 4 --gid 30000 --groups nixbld --no-user-group --system --shell /sbin/nologin --uid 30004 --password ! nixbld4\n",
            "\n",
            "Creating the Nix build user, nixbld4\n",
            "\n",
            "\u001b[1m           Created\u001b[0m:\tYes\n",
            "\u001b[1m            Hidden\u001b[0m:\tYes\n",
            "\u001b[1m    Home Directory\u001b[0m:\t/var/empty\n",
            "\u001b[1m              Note\u001b[0m:\tNix build user 4\n",
            "\u001b[1m   Logins Disabled\u001b[0m:\tYes\n",
            "\u001b[1m  Member of nixbld\u001b[0m:\tYes\n",
            "\u001b[1m    PrimaryGroupID\u001b[0m:\t30000\n",
            "\n",
            "\u001b[32m~~> Setting up the build user nixbld5\n",
            "\u001b[0m\n",
            "\u001b[34m---- sudo execution ------------------------------------------------------------\n",
            "\u001b[0mI am executing:\n",
            "\n",
            "    $ sudo useradd --home-dir /var/empty --comment Nix build user 5 --gid 30000 --groups nixbld --no-user-group --system --shell /sbin/nologin --uid 30005 --password ! nixbld5\n",
            "\n",
            "Creating the Nix build user, nixbld5\n",
            "\n",
            "\u001b[1m           Created\u001b[0m:\tYes\n",
            "\u001b[1m            Hidden\u001b[0m:\tYes\n",
            "\u001b[1m    Home Directory\u001b[0m:\t/var/empty\n",
            "\u001b[1m              Note\u001b[0m:\tNix build user 5\n",
            "\u001b[1m   Logins Disabled\u001b[0m:\tYes\n",
            "\u001b[1m  Member of nixbld\u001b[0m:\tYes\n",
            "\u001b[1m    PrimaryGroupID\u001b[0m:\t30000\n",
            "\n",
            "\u001b[32m~~> Setting up the build user nixbld6\n",
            "\u001b[0m\n",
            "\u001b[34m---- sudo execution ------------------------------------------------------------\n",
            "\u001b[0mI am executing:\n",
            "\n",
            "    $ sudo useradd --home-dir /var/empty --comment Nix build user 6 --gid 30000 --groups nixbld --no-user-group --system --shell /sbin/nologin --uid 30006 --password ! nixbld6\n",
            "\n",
            "Creating the Nix build user, nixbld6\n",
            "\n",
            "\u001b[1m           Created\u001b[0m:\tYes\n",
            "\u001b[1m            Hidden\u001b[0m:\tYes\n",
            "\u001b[1m    Home Directory\u001b[0m:\t/var/empty\n",
            "\u001b[1m              Note\u001b[0m:\tNix build user 6\n",
            "\u001b[1m   Logins Disabled\u001b[0m:\tYes\n",
            "\u001b[1m  Member of nixbld\u001b[0m:\tYes\n",
            "\u001b[1m    PrimaryGroupID\u001b[0m:\t30000\n",
            "\n",
            "\u001b[32m~~> Setting up the build user nixbld7\n",
            "\u001b[0m\n",
            "\u001b[34m---- sudo execution ------------------------------------------------------------\n",
            "\u001b[0mI am executing:\n",
            "\n",
            "    $ sudo useradd --home-dir /var/empty --comment Nix build user 7 --gid 30000 --groups nixbld --no-user-group --system --shell /sbin/nologin --uid 30007 --password ! nixbld7\n",
            "\n",
            "Creating the Nix build user, nixbld7\n",
            "\n",
            "\u001b[1m           Created\u001b[0m:\tYes\n",
            "\u001b[1m            Hidden\u001b[0m:\tYes\n",
            "\u001b[1m    Home Directory\u001b[0m:\t/var/empty\n",
            "\u001b[1m              Note\u001b[0m:\tNix build user 7\n",
            "\u001b[1m   Logins Disabled\u001b[0m:\tYes\n",
            "\u001b[1m  Member of nixbld\u001b[0m:\tYes\n",
            "\u001b[1m    PrimaryGroupID\u001b[0m:\t30000\n",
            "\n",
            "\u001b[32m~~> Setting up the build user nixbld8\n",
            "\u001b[0m\n",
            "\u001b[34m---- sudo execution ------------------------------------------------------------\n",
            "\u001b[0mI am executing:\n",
            "\n",
            "    $ sudo useradd --home-dir /var/empty --comment Nix build user 8 --gid 30000 --groups nixbld --no-user-group --system --shell /sbin/nologin --uid 30008 --password ! nixbld8\n",
            "\n",
            "Creating the Nix build user, nixbld8\n",
            "\n",
            "\u001b[1m           Created\u001b[0m:\tYes\n",
            "\u001b[1m            Hidden\u001b[0m:\tYes\n",
            "\u001b[1m    Home Directory\u001b[0m:\t/var/empty\n",
            "\u001b[1m              Note\u001b[0m:\tNix build user 8\n",
            "\u001b[1m   Logins Disabled\u001b[0m:\tYes\n",
            "\u001b[1m  Member of nixbld\u001b[0m:\tYes\n",
            "\u001b[1m    PrimaryGroupID\u001b[0m:\t30000\n",
            "\n",
            "\u001b[32m~~> Setting up the build user nixbld9\n",
            "\u001b[0m\n",
            "\u001b[34m---- sudo execution ------------------------------------------------------------\n",
            "\u001b[0mI am executing:\n",
            "\n",
            "    $ sudo useradd --home-dir /var/empty --comment Nix build user 9 --gid 30000 --groups nixbld --no-user-group --system --shell /sbin/nologin --uid 30009 --password ! nixbld9\n",
            "\n",
            "Creating the Nix build user, nixbld9\n",
            "\n",
            "\u001b[1m           Created\u001b[0m:\tYes\n",
            "\u001b[1m            Hidden\u001b[0m:\tYes\n",
            "\u001b[1m    Home Directory\u001b[0m:\t/var/empty\n",
            "\u001b[1m              Note\u001b[0m:\tNix build user 9\n",
            "\u001b[1m   Logins Disabled\u001b[0m:\tYes\n",
            "\u001b[1m  Member of nixbld\u001b[0m:\tYes\n",
            "\u001b[1m    PrimaryGroupID\u001b[0m:\t30000\n",
            "\n",
            "\u001b[32m~~> Setting up the build user nixbld10\n",
            "\u001b[0m\n",
            "\u001b[34m---- sudo execution ------------------------------------------------------------\n",
            "\u001b[0mI am executing:\n",
            "\n",
            "    $ sudo useradd --home-dir /var/empty --comment Nix build user 10 --gid 30000 --groups nixbld --no-user-group --system --shell /sbin/nologin --uid 30010 --password ! nixbld10\n",
            "\n",
            "Creating the Nix build user, nixbld10\n",
            "\n",
            "\u001b[1m           Created\u001b[0m:\tYes\n",
            "\u001b[1m            Hidden\u001b[0m:\tYes\n",
            "\u001b[1m    Home Directory\u001b[0m:\t/var/empty\n",
            "\u001b[1m              Note\u001b[0m:\tNix build user 10\n",
            "\u001b[1m   Logins Disabled\u001b[0m:\tYes\n",
            "\u001b[1m  Member of nixbld\u001b[0m:\tYes\n",
            "\u001b[1m    PrimaryGroupID\u001b[0m:\t30000\n",
            "\n",
            "\u001b[32m~~> Setting up the build user nixbld11\n",
            "\u001b[0m\n",
            "\u001b[34m---- sudo execution ------------------------------------------------------------\n",
            "\u001b[0mI am executing:\n",
            "\n",
            "    $ sudo useradd --home-dir /var/empty --comment Nix build user 11 --gid 30000 --groups nixbld --no-user-group --system --shell /sbin/nologin --uid 30011 --password ! nixbld11\n",
            "\n",
            "Creating the Nix build user, nixbld11\n",
            "\n",
            "\u001b[1m           Created\u001b[0m:\tYes\n",
            "\u001b[1m            Hidden\u001b[0m:\tYes\n",
            "\u001b[1m    Home Directory\u001b[0m:\t/var/empty\n",
            "\u001b[1m              Note\u001b[0m:\tNix build user 11\n",
            "\u001b[1m   Logins Disabled\u001b[0m:\tYes\n",
            "\u001b[1m  Member of nixbld\u001b[0m:\tYes\n",
            "\u001b[1m    PrimaryGroupID\u001b[0m:\t30000\n",
            "\n",
            "\u001b[32m~~> Setting up the build user nixbld12\n",
            "\u001b[0m\n",
            "\u001b[34m---- sudo execution ------------------------------------------------------------\n",
            "\u001b[0mI am executing:\n",
            "\n",
            "    $ sudo useradd --home-dir /var/empty --comment Nix build user 12 --gid 30000 --groups nixbld --no-user-group --system --shell /sbin/nologin --uid 30012 --password ! nixbld12\n",
            "\n",
            "Creating the Nix build user, nixbld12\n",
            "\n",
            "\u001b[1m           Created\u001b[0m:\tYes\n",
            "\u001b[1m            Hidden\u001b[0m:\tYes\n",
            "\u001b[1m    Home Directory\u001b[0m:\t/var/empty\n",
            "\u001b[1m              Note\u001b[0m:\tNix build user 12\n",
            "\u001b[1m   Logins Disabled\u001b[0m:\tYes\n",
            "\u001b[1m  Member of nixbld\u001b[0m:\tYes\n",
            "\u001b[1m    PrimaryGroupID\u001b[0m:\t30000\n",
            "\n",
            "\u001b[32m~~> Setting up the build user nixbld13\n",
            "\u001b[0m\n",
            "\u001b[34m---- sudo execution ------------------------------------------------------------\n",
            "\u001b[0mI am executing:\n",
            "\n",
            "    $ sudo useradd --home-dir /var/empty --comment Nix build user 13 --gid 30000 --groups nixbld --no-user-group --system --shell /sbin/nologin --uid 30013 --password ! nixbld13\n",
            "\n",
            "Creating the Nix build user, nixbld13\n",
            "\n",
            "\u001b[1m           Created\u001b[0m:\tYes\n",
            "\u001b[1m            Hidden\u001b[0m:\tYes\n",
            "\u001b[1m    Home Directory\u001b[0m:\t/var/empty\n",
            "\u001b[1m              Note\u001b[0m:\tNix build user 13\n",
            "\u001b[1m   Logins Disabled\u001b[0m:\tYes\n",
            "\u001b[1m  Member of nixbld\u001b[0m:\tYes\n",
            "\u001b[1m    PrimaryGroupID\u001b[0m:\t30000\n",
            "\n",
            "\u001b[32m~~> Setting up the build user nixbld14\n",
            "\u001b[0m\n",
            "\u001b[34m---- sudo execution ------------------------------------------------------------\n",
            "\u001b[0mI am executing:\n",
            "\n",
            "    $ sudo useradd --home-dir /var/empty --comment Nix build user 14 --gid 30000 --groups nixbld --no-user-group --system --shell /sbin/nologin --uid 30014 --password ! nixbld14\n",
            "\n",
            "Creating the Nix build user, nixbld14\n",
            "\n",
            "\u001b[1m           Created\u001b[0m:\tYes\n",
            "\u001b[1m            Hidden\u001b[0m:\tYes\n",
            "\u001b[1m    Home Directory\u001b[0m:\t/var/empty\n",
            "\u001b[1m              Note\u001b[0m:\tNix build user 14\n",
            "\u001b[1m   Logins Disabled\u001b[0m:\tYes\n",
            "\u001b[1m  Member of nixbld\u001b[0m:\tYes\n",
            "\u001b[1m    PrimaryGroupID\u001b[0m:\t30000\n",
            "\n",
            "\u001b[32m~~> Setting up the build user nixbld15\n",
            "\u001b[0m\n",
            "\u001b[34m---- sudo execution ------------------------------------------------------------\n",
            "\u001b[0mI am executing:\n",
            "\n",
            "    $ sudo useradd --home-dir /var/empty --comment Nix build user 15 --gid 30000 --groups nixbld --no-user-group --system --shell /sbin/nologin --uid 30015 --password ! nixbld15\n",
            "\n",
            "Creating the Nix build user, nixbld15\n",
            "\n",
            "\u001b[1m           Created\u001b[0m:\tYes\n",
            "\u001b[1m            Hidden\u001b[0m:\tYes\n",
            "\u001b[1m    Home Directory\u001b[0m:\t/var/empty\n",
            "\u001b[1m              Note\u001b[0m:\tNix build user 15\n",
            "\u001b[1m   Logins Disabled\u001b[0m:\tYes\n",
            "\u001b[1m  Member of nixbld\u001b[0m:\tYes\n",
            "\u001b[1m    PrimaryGroupID\u001b[0m:\t30000\n",
            "\n",
            "\u001b[32m~~> Setting up the build user nixbld16\n",
            "\u001b[0m\n",
            "\u001b[34m---- sudo execution ------------------------------------------------------------\n",
            "\u001b[0mI am executing:\n",
            "\n",
            "    $ sudo useradd --home-dir /var/empty --comment Nix build user 16 --gid 30000 --groups nixbld --no-user-group --system --shell /sbin/nologin --uid 30016 --password ! nixbld16\n",
            "\n",
            "Creating the Nix build user, nixbld16\n",
            "\n",
            "\u001b[1m           Created\u001b[0m:\tYes\n",
            "\u001b[1m            Hidden\u001b[0m:\tYes\n",
            "\u001b[1m    Home Directory\u001b[0m:\t/var/empty\n",
            "\u001b[1m              Note\u001b[0m:\tNix build user 16\n",
            "\u001b[1m   Logins Disabled\u001b[0m:\tYes\n",
            "\u001b[1m  Member of nixbld\u001b[0m:\tYes\n",
            "\u001b[1m    PrimaryGroupID\u001b[0m:\t30000\n",
            "\n",
            "\u001b[32m~~> Setting up the build user nixbld17\n",
            "\u001b[0m\n",
            "\u001b[34m---- sudo execution ------------------------------------------------------------\n",
            "\u001b[0mI am executing:\n",
            "\n",
            "    $ sudo useradd --home-dir /var/empty --comment Nix build user 17 --gid 30000 --groups nixbld --no-user-group --system --shell /sbin/nologin --uid 30017 --password ! nixbld17\n",
            "\n",
            "Creating the Nix build user, nixbld17\n",
            "\n",
            "\u001b[1m           Created\u001b[0m:\tYes\n",
            "\u001b[1m            Hidden\u001b[0m:\tYes\n",
            "\u001b[1m    Home Directory\u001b[0m:\t/var/empty\n",
            "\u001b[1m              Note\u001b[0m:\tNix build user 17\n",
            "\u001b[1m   Logins Disabled\u001b[0m:\tYes\n",
            "\u001b[1m  Member of nixbld\u001b[0m:\tYes\n",
            "\u001b[1m    PrimaryGroupID\u001b[0m:\t30000\n",
            "\n",
            "\u001b[32m~~> Setting up the build user nixbld18\n",
            "\u001b[0m\n",
            "\u001b[34m---- sudo execution ------------------------------------------------------------\n",
            "\u001b[0mI am executing:\n",
            "\n",
            "    $ sudo useradd --home-dir /var/empty --comment Nix build user 18 --gid 30000 --groups nixbld --no-user-group --system --shell /sbin/nologin --uid 30018 --password ! nixbld18\n",
            "\n",
            "Creating the Nix build user, nixbld18\n",
            "\n",
            "\u001b[1m           Created\u001b[0m:\tYes\n",
            "\u001b[1m            Hidden\u001b[0m:\tYes\n",
            "\u001b[1m    Home Directory\u001b[0m:\t/var/empty\n",
            "\u001b[1m              Note\u001b[0m:\tNix build user 18\n",
            "\u001b[1m   Logins Disabled\u001b[0m:\tYes\n",
            "\u001b[1m  Member of nixbld\u001b[0m:\tYes\n",
            "\u001b[1m    PrimaryGroupID\u001b[0m:\t30000\n",
            "\n",
            "\u001b[32m~~> Setting up the build user nixbld19\n",
            "\u001b[0m\n",
            "\u001b[34m---- sudo execution ------------------------------------------------------------\n",
            "\u001b[0mI am executing:\n",
            "\n",
            "    $ sudo useradd --home-dir /var/empty --comment Nix build user 19 --gid 30000 --groups nixbld --no-user-group --system --shell /sbin/nologin --uid 30019 --password ! nixbld19\n",
            "\n",
            "Creating the Nix build user, nixbld19\n",
            "\n",
            "\u001b[1m           Created\u001b[0m:\tYes\n",
            "\u001b[1m            Hidden\u001b[0m:\tYes\n",
            "\u001b[1m    Home Directory\u001b[0m:\t/var/empty\n",
            "\u001b[1m              Note\u001b[0m:\tNix build user 19\n",
            "\u001b[1m   Logins Disabled\u001b[0m:\tYes\n",
            "\u001b[1m  Member of nixbld\u001b[0m:\tYes\n",
            "\u001b[1m    PrimaryGroupID\u001b[0m:\t30000\n",
            "\n",
            "\u001b[32m~~> Setting up the build user nixbld20\n",
            "\u001b[0m\n",
            "\u001b[34m---- sudo execution ------------------------------------------------------------\n",
            "\u001b[0mI am executing:\n",
            "\n",
            "    $ sudo useradd --home-dir /var/empty --comment Nix build user 20 --gid 30000 --groups nixbld --no-user-group --system --shell /sbin/nologin --uid 30020 --password ! nixbld20\n",
            "\n",
            "Creating the Nix build user, nixbld20\n",
            "\n",
            "\u001b[1m           Created\u001b[0m:\tYes\n",
            "\u001b[1m            Hidden\u001b[0m:\tYes\n",
            "\u001b[1m    Home Directory\u001b[0m:\t/var/empty\n",
            "\u001b[1m              Note\u001b[0m:\tNix build user 20\n",
            "\u001b[1m   Logins Disabled\u001b[0m:\tYes\n",
            "\u001b[1m  Member of nixbld\u001b[0m:\tYes\n",
            "\u001b[1m    PrimaryGroupID\u001b[0m:\t30000\n",
            "\n",
            "\u001b[32m~~> Setting up the build user nixbld21\n",
            "\u001b[0m\n",
            "\u001b[34m---- sudo execution ------------------------------------------------------------\n",
            "\u001b[0mI am executing:\n",
            "\n",
            "    $ sudo useradd --home-dir /var/empty --comment Nix build user 21 --gid 30000 --groups nixbld --no-user-group --system --shell /sbin/nologin --uid 30021 --password ! nixbld21\n",
            "\n",
            "Creating the Nix build user, nixbld21\n",
            "\n",
            "\u001b[1m           Created\u001b[0m:\tYes\n",
            "\u001b[1m            Hidden\u001b[0m:\tYes\n",
            "\u001b[1m    Home Directory\u001b[0m:\t/var/empty\n",
            "\u001b[1m              Note\u001b[0m:\tNix build user 21\n",
            "\u001b[1m   Logins Disabled\u001b[0m:\tYes\n",
            "\u001b[1m  Member of nixbld\u001b[0m:\tYes\n",
            "\u001b[1m    PrimaryGroupID\u001b[0m:\t30000\n",
            "\n",
            "\u001b[32m~~> Setting up the build user nixbld22\n",
            "\u001b[0m\n",
            "\u001b[34m---- sudo execution ------------------------------------------------------------\n",
            "\u001b[0mI am executing:\n",
            "\n",
            "    $ sudo useradd --home-dir /var/empty --comment Nix build user 22 --gid 30000 --groups nixbld --no-user-group --system --shell /sbin/nologin --uid 30022 --password ! nixbld22\n",
            "\n",
            "Creating the Nix build user, nixbld22\n",
            "\n",
            "\u001b[1m           Created\u001b[0m:\tYes\n",
            "\u001b[1m            Hidden\u001b[0m:\tYes\n",
            "\u001b[1m    Home Directory\u001b[0m:\t/var/empty\n",
            "\u001b[1m              Note\u001b[0m:\tNix build user 22\n",
            "\u001b[1m   Logins Disabled\u001b[0m:\tYes\n",
            "\u001b[1m  Member of nixbld\u001b[0m:\tYes\n",
            "\u001b[1m    PrimaryGroupID\u001b[0m:\t30000\n",
            "\n",
            "\u001b[32m~~> Setting up the build user nixbld23\n",
            "\u001b[0m\n",
            "\u001b[34m---- sudo execution ------------------------------------------------------------\n",
            "\u001b[0mI am executing:\n",
            "\n",
            "    $ sudo useradd --home-dir /var/empty --comment Nix build user 23 --gid 30000 --groups nixbld --no-user-group --system --shell /sbin/nologin --uid 30023 --password ! nixbld23\n",
            "\n",
            "Creating the Nix build user, nixbld23\n",
            "\n",
            "\u001b[1m           Created\u001b[0m:\tYes\n",
            "\u001b[1m            Hidden\u001b[0m:\tYes\n",
            "\u001b[1m    Home Directory\u001b[0m:\t/var/empty\n",
            "\u001b[1m              Note\u001b[0m:\tNix build user 23\n",
            "\u001b[1m   Logins Disabled\u001b[0m:\tYes\n",
            "\u001b[1m  Member of nixbld\u001b[0m:\tYes\n",
            "\u001b[1m    PrimaryGroupID\u001b[0m:\t30000\n",
            "\n",
            "\u001b[32m~~> Setting up the build user nixbld24\n",
            "\u001b[0m\n",
            "\u001b[34m---- sudo execution ------------------------------------------------------------\n",
            "\u001b[0mI am executing:\n",
            "\n",
            "    $ sudo useradd --home-dir /var/empty --comment Nix build user 24 --gid 30000 --groups nixbld --no-user-group --system --shell /sbin/nologin --uid 30024 --password ! nixbld24\n",
            "\n",
            "Creating the Nix build user, nixbld24\n",
            "\n",
            "\u001b[1m           Created\u001b[0m:\tYes\n",
            "\u001b[1m            Hidden\u001b[0m:\tYes\n",
            "\u001b[1m    Home Directory\u001b[0m:\t/var/empty\n",
            "\u001b[1m              Note\u001b[0m:\tNix build user 24\n",
            "\u001b[1m   Logins Disabled\u001b[0m:\tYes\n",
            "\u001b[1m  Member of nixbld\u001b[0m:\tYes\n",
            "\u001b[1m    PrimaryGroupID\u001b[0m:\t30000\n",
            "\n",
            "\u001b[32m~~> Setting up the build user nixbld25\n",
            "\u001b[0m\n",
            "\u001b[34m---- sudo execution ------------------------------------------------------------\n",
            "\u001b[0mI am executing:\n",
            "\n",
            "    $ sudo useradd --home-dir /var/empty --comment Nix build user 25 --gid 30000 --groups nixbld --no-user-group --system --shell /sbin/nologin --uid 30025 --password ! nixbld25\n",
            "\n",
            "Creating the Nix build user, nixbld25\n",
            "\n",
            "\u001b[1m           Created\u001b[0m:\tYes\n",
            "\u001b[1m            Hidden\u001b[0m:\tYes\n",
            "\u001b[1m    Home Directory\u001b[0m:\t/var/empty\n",
            "\u001b[1m              Note\u001b[0m:\tNix build user 25\n",
            "\u001b[1m   Logins Disabled\u001b[0m:\tYes\n",
            "\u001b[1m  Member of nixbld\u001b[0m:\tYes\n",
            "\u001b[1m    PrimaryGroupID\u001b[0m:\t30000\n",
            "\n",
            "\u001b[32m~~> Setting up the build user nixbld26\n",
            "\u001b[0m\n",
            "\u001b[34m---- sudo execution ------------------------------------------------------------\n",
            "\u001b[0mI am executing:\n",
            "\n",
            "    $ sudo useradd --home-dir /var/empty --comment Nix build user 26 --gid 30000 --groups nixbld --no-user-group --system --shell /sbin/nologin --uid 30026 --password ! nixbld26\n",
            "\n",
            "Creating the Nix build user, nixbld26\n",
            "\n",
            "\u001b[1m           Created\u001b[0m:\tYes\n",
            "\u001b[1m            Hidden\u001b[0m:\tYes\n",
            "\u001b[1m    Home Directory\u001b[0m:\t/var/empty\n",
            "\u001b[1m              Note\u001b[0m:\tNix build user 26\n",
            "\u001b[1m   Logins Disabled\u001b[0m:\tYes\n",
            "\u001b[1m  Member of nixbld\u001b[0m:\tYes\n",
            "\u001b[1m    PrimaryGroupID\u001b[0m:\t30000\n",
            "\n",
            "\u001b[32m~~> Setting up the build user nixbld27\n",
            "\u001b[0m\n",
            "\u001b[34m---- sudo execution ------------------------------------------------------------\n",
            "\u001b[0mI am executing:\n",
            "\n",
            "    $ sudo useradd --home-dir /var/empty --comment Nix build user 27 --gid 30000 --groups nixbld --no-user-group --system --shell /sbin/nologin --uid 30027 --password ! nixbld27\n",
            "\n",
            "Creating the Nix build user, nixbld27\n",
            "\n",
            "\u001b[1m           Created\u001b[0m:\tYes\n",
            "\u001b[1m            Hidden\u001b[0m:\tYes\n",
            "\u001b[1m    Home Directory\u001b[0m:\t/var/empty\n",
            "\u001b[1m              Note\u001b[0m:\tNix build user 27\n",
            "\u001b[1m   Logins Disabled\u001b[0m:\tYes\n",
            "\u001b[1m  Member of nixbld\u001b[0m:\tYes\n",
            "\u001b[1m    PrimaryGroupID\u001b[0m:\t30000\n",
            "\n",
            "\u001b[32m~~> Setting up the build user nixbld28\n",
            "\u001b[0m\n",
            "\u001b[34m---- sudo execution ------------------------------------------------------------\n",
            "\u001b[0mI am executing:\n",
            "\n",
            "    $ sudo useradd --home-dir /var/empty --comment Nix build user 28 --gid 30000 --groups nixbld --no-user-group --system --shell /sbin/nologin --uid 30028 --password ! nixbld28\n",
            "\n",
            "Creating the Nix build user, nixbld28\n",
            "\n",
            "\u001b[1m           Created\u001b[0m:\tYes\n",
            "\u001b[1m            Hidden\u001b[0m:\tYes\n",
            "\u001b[1m    Home Directory\u001b[0m:\t/var/empty\n",
            "\u001b[1m              Note\u001b[0m:\tNix build user 28\n",
            "\u001b[1m   Logins Disabled\u001b[0m:\tYes\n",
            "\u001b[1m  Member of nixbld\u001b[0m:\tYes\n",
            "\u001b[1m    PrimaryGroupID\u001b[0m:\t30000\n",
            "\n",
            "\u001b[32m~~> Setting up the build user nixbld29\n",
            "\u001b[0m\n",
            "\u001b[34m---- sudo execution ------------------------------------------------------------\n",
            "\u001b[0mI am executing:\n",
            "\n",
            "    $ sudo useradd --home-dir /var/empty --comment Nix build user 29 --gid 30000 --groups nixbld --no-user-group --system --shell /sbin/nologin --uid 30029 --password ! nixbld29\n",
            "\n",
            "Creating the Nix build user, nixbld29\n",
            "\n",
            "\u001b[1m           Created\u001b[0m:\tYes\n",
            "\u001b[1m            Hidden\u001b[0m:\tYes\n",
            "\u001b[1m    Home Directory\u001b[0m:\t/var/empty\n",
            "\u001b[1m              Note\u001b[0m:\tNix build user 29\n",
            "\u001b[1m   Logins Disabled\u001b[0m:\tYes\n",
            "\u001b[1m  Member of nixbld\u001b[0m:\tYes\n",
            "\u001b[1m    PrimaryGroupID\u001b[0m:\t30000\n",
            "\n",
            "\u001b[32m~~> Setting up the build user nixbld30\n",
            "\u001b[0m\n",
            "\u001b[34m---- sudo execution ------------------------------------------------------------\n",
            "\u001b[0mI am executing:\n",
            "\n",
            "    $ sudo useradd --home-dir /var/empty --comment Nix build user 30 --gid 30000 --groups nixbld --no-user-group --system --shell /sbin/nologin --uid 30030 --password ! nixbld30\n",
            "\n",
            "Creating the Nix build user, nixbld30\n",
            "\n",
            "\u001b[1m           Created\u001b[0m:\tYes\n",
            "\u001b[1m            Hidden\u001b[0m:\tYes\n",
            "\u001b[1m    Home Directory\u001b[0m:\t/var/empty\n",
            "\u001b[1m              Note\u001b[0m:\tNix build user 30\n",
            "\u001b[1m   Logins Disabled\u001b[0m:\tYes\n",
            "\u001b[1m  Member of nixbld\u001b[0m:\tYes\n",
            "\u001b[1m    PrimaryGroupID\u001b[0m:\t30000\n",
            "\n",
            "\u001b[32m~~> Setting up the build user nixbld31\n",
            "\u001b[0m\n",
            "\u001b[34m---- sudo execution ------------------------------------------------------------\n",
            "\u001b[0mI am executing:\n",
            "\n",
            "    $ sudo useradd --home-dir /var/empty --comment Nix build user 31 --gid 30000 --groups nixbld --no-user-group --system --shell /sbin/nologin --uid 30031 --password ! nixbld31\n",
            "\n",
            "Creating the Nix build user, nixbld31\n",
            "\n",
            "\u001b[1m           Created\u001b[0m:\tYes\n",
            "\u001b[1m            Hidden\u001b[0m:\tYes\n",
            "\u001b[1m    Home Directory\u001b[0m:\t/var/empty\n",
            "\u001b[1m              Note\u001b[0m:\tNix build user 31\n",
            "\u001b[1m   Logins Disabled\u001b[0m:\tYes\n",
            "\u001b[1m  Member of nixbld\u001b[0m:\tYes\n",
            "\u001b[1m    PrimaryGroupID\u001b[0m:\t30000\n",
            "\n",
            "\u001b[32m~~> Setting up the build user nixbld32\n",
            "\u001b[0m\n",
            "\u001b[34m---- sudo execution ------------------------------------------------------------\n",
            "\u001b[0mI am executing:\n",
            "\n",
            "    $ sudo useradd --home-dir /var/empty --comment Nix build user 32 --gid 30000 --groups nixbld --no-user-group --system --shell /sbin/nologin --uid 30032 --password ! nixbld32\n",
            "\n",
            "Creating the Nix build user, nixbld32\n",
            "\n",
            "\u001b[1m           Created\u001b[0m:\tYes\n",
            "\u001b[1m            Hidden\u001b[0m:\tYes\n",
            "\u001b[1m    Home Directory\u001b[0m:\t/var/empty\n",
            "\u001b[1m              Note\u001b[0m:\tNix build user 32\n",
            "\u001b[1m   Logins Disabled\u001b[0m:\tYes\n",
            "\u001b[1m  Member of nixbld\u001b[0m:\tYes\n",
            "\u001b[1m    PrimaryGroupID\u001b[0m:\t30000\n",
            "\n",
            "\u001b[32m~~> Setting up the basic directory structure\n",
            "\u001b[0m\n",
            "\u001b[34m---- sudo execution ------------------------------------------------------------\n",
            "\u001b[0mI am executing:\n",
            "\n",
            "    $ sudo install -dv -m 0755 /nix /nix/var /nix/var/log /nix/var/log/nix /nix/var/log/nix/drvs /nix/var/nix /nix/var/nix/db /nix/var/nix/gcroots /nix/var/nix/profiles /nix/var/nix/temproots /nix/var/nix/userpool /nix/var/nix/daemon-socket /nix/var/nix/gcroots/per-user /nix/var/nix/profiles/per-user\n",
            "\n",
            "to make the basic directory structure of Nix (part 1)\n",
            "\n",
            "install: creating directory '/nix'\n",
            "install: creating directory '/nix/var'\n",
            "install: creating directory '/nix/var/log'\n",
            "install: creating directory '/nix/var/log/nix'\n",
            "install: creating directory '/nix/var/log/nix/drvs'\n",
            "install: creating directory '/nix/var/nix'\n",
            "install: creating directory '/nix/var/nix/db'\n",
            "install: creating directory '/nix/var/nix/gcroots'\n",
            "install: creating directory '/nix/var/nix/profiles'\n",
            "install: creating directory '/nix/var/nix/temproots'\n",
            "install: creating directory '/nix/var/nix/userpool'\n",
            "install: creating directory '/nix/var/nix/daemon-socket'\n",
            "install: creating directory '/nix/var/nix/gcroots/per-user'\n",
            "install: creating directory '/nix/var/nix/profiles/per-user'\n",
            "\n",
            "\u001b[34m---- sudo execution ------------------------------------------------------------\n",
            "\u001b[0mI am executing:\n",
            "\n",
            "    $ sudo install -dv -g nixbld -m 1775 /nix/store\n",
            "\n",
            "to make the basic directory structure of Nix (part 2)\n",
            "\n",
            "install: creating directory '/nix/store'\n",
            "\n",
            "\u001b[34m---- sudo execution ------------------------------------------------------------\n",
            "\u001b[0mI am executing:\n",
            "\n",
            "    $ sudo install -dv -m 0555 /etc/nix\n",
            "\n",
            "to place the default nix daemon configuration (part 1)\n",
            "\n",
            "install: creating directory '/etc/nix'\n",
            "\n",
            "\u001b[34m---- sudo execution ------------------------------------------------------------\n",
            "\u001b[0mI am executing:\n",
            "\n",
            "    $ sudo install -m 0644 /tmp/tmp.gtx62LFIKw/.nix-channels /root/.nix-channels\n",
            "\n",
            "to set up the default system channel (part 1)\n",
            "\n",
            "\n",
            "\u001b[32m~~> Installing Nix\n",
            "\u001b[0m\n",
            "\u001b[34m---- sudo execution ------------------------------------------------------------\n",
            "\u001b[0mI am executing:\n",
            "\n",
            "    $ sudo cp -RP --preserve=ownership,timestamps ./store/0369qr470fzidifvg53082zy6n37zj2s-s2n-tls-1.5.12 ./store/056kf3y6n9q5i7gdiynwdj6wrmb7b4kx-curl-8.12.1 ./store/0x600292yi5qzg389nan9j4dvzlh8785-gcc-14.2.1.20250322-libgcc ./store/132yjkbgnirm9riwd1cwvvgr33a6sphf-zstd-1.5.7 ./store/1i5cz1bqy7g9kaq6dkaqchn857b2h8cs-libssh2-1.11.1 ./store/1qbva04vllb9p77mnaag823zb32fjb7l-nix-fetchers-2.30.2 ./store/25mgr0zphrz92ccs5dzwpki2i4dylx0z-aws-crt-cpp-0.29.4 ./store/2g1l5rwbpvgdz7ykx9ryfajamnhbcgw5-aws-c-io-0.15.3 ./store/2risglirc1di21134b0pyaxcn1z76xqd-aws-c-auth-0.8.1 ./store/2wmmwdbxp6myhdbrqsan7nbpsfazszvl-nss-cacert-3.108 ./store/38jbvjqj4qwp1lpdhki4brvxqxlyc4f1-aws-c-http-0.9.2 ./store/3dxf3h6dfkji265h3yfwsp4rcl2zkf0c-aws-c-sdkutils-0.2.1 ./store/45m0syxl368gqmnhxxpqpnpng9yvpf84-boehm-gc-8.2.8 ./store/49dxdr3ln7xfna1b94vi5hra6rgqk6h1-attr-2.5.2 ./store/4cyin7qmw12xmd25xlq9fp4sgc7mn3mc-boost-1.87.0 ./store/5fiq22i66g4pvvk9z4j6yq573v4sfbg0-nix-expr-2.30.2 ./store/5ii1rvfy7vr12vbr8fjq8r6rav83dg2x-nix-store-2.30.2 ./store/63lan55wm3n1h5r9rn7gbihpzfsnkmi1-libarchive-3.7.8-lib ./store/8birdx7fkbs0zdg378mmq8phwk85id4r-krb5-1.21.3-lib ./store/8dr41ckl7sbv2v5aim3csxzql03z68hk-zlib-1.3.1 ./store/8ms1zkkidmvnghnvdx07yjzj8cvi4dzm-llhttp-9.2.1 ./store/92qr85qfacrjxkyp21y42yw1w4hxyx2v-aws-c-event-stream-0.5.0 ./store/a66rqgshnmvcfny5drg5ilmh5alxmkqw-nix-flake-2.30.2 ./store/acia13s3psa6hyl0n3an25syz55qwwjp-libsodium-1.0.20 ./store/arv0cbngl4sa4w349166bq1x6dh6b7jy-nghttp2-1.65.0-lib ./store/bj4jsc89w5gl4c63cs823ydj3fksjw89-tbb-2021.11.0-dev ./store/br3j52aw0njxi03s9ppmxcil3bw929g6-aws-sdk-cpp-1.11.448 ./store/chg330wi4p9g0r9bab2186wwhbgmlm5z-pcre2-10.44 ./store/cjs7mgw6q8zp75qapfmqhqnbf62b3fwa-libgit2-1.9.0-lib ./store/czg92d6mb88mp89vnmbf2ddnm8m0pbly-editline-1.17.1 ./store/ddnrpqdpfm1nsrfji3hr4aqmd93y6xkv-brotli-1.1.0-lib ./store/fdsndp18qa1fk375vcd4vrn00c0p4zpr-xgcc-14.2.1.20250322-libgcc ./store/g3s0z9r7m1lsfxdk8bj88nw8k8q3dmmg-glibc-2.40-66 ./store/g5cplv55bx1ajr9cai1arjfl8gpml311-libblake3-1.8.2 ./store/gk2b0g62xkrvzm47hlfzl919063m2z69-lowdown-1.3.2-lib ./store/gqss03q9pvhg560rwiinrwmvkaj64qls-aws-c-common-0.10.3 ./store/gv7z0km39q3fgzavpic8vrl7smh5n2w6-gcc-14.2.1.20250322-lib ./store/hzfjla4v6x1851jh0wakajlqif0jxrgy-xz-5.8.1 ./store/id64gslv6xwm2ylsb6s1zmjq3d5cc1n6-libxml2-2.13.8 ./store/iv1s0xj5cd8y77az9649jk6r7fbffyf6-nix-cmd-2.30.2 ./store/k524klxgb2zyqf1kcq1xm68gxnjw70jy-aws-c-cal-0.8.0 ./store/kfqq6m8i6wm82g52dbbvpdgkx6xgnx73-aws-c-s3-0.7.1 ./store/l76031qldfvf2cr8xvpyp0652w0inp3r-libcpuid-0.7.1 ./store/mjsdsjml26kk2zhwjnfp20vvs43ackdh-aws-c-compression-0.3.0 ./store/mk2ddhh8z5fkx9wpm36mibrxqsmkd723-publicsuffix-list-0-unstable-2025-03-12 ./store/mq1680dppidpggmaqaklwapvgm6iw3a6-bzip2-1.0.8 ./store/n57pk92cs22w8q47rnfy72kppc8m6f4a-libseccomp-2.6.0-lib ./store/n8kngjvvbs2pa9ls6shm92crz2lkq8qs-keyutils-1.6.3-lib ./store/nff52xidq9f2qf93x5r5sr8zc8iwwa5j-sqlite-3.48.0 ./store/np1bpjysbx7269m0qm5zfjhk4zci2iwg-aws-checksums-0.2.2 ./store/p9xyfy7g4i1k65ix909qv18c37bidg39-nix-util-2.30.2 ./store/qjvmk7hav4j7x7z0sj3kvncm1mrdjnkj-aws-c-mqtt-0.11.0 ./store/vz9lbmlmh795dzf2brpi50yrpx21rnrp-nix-2.30.2 ./store/vzdd455zm255kx85hg1cvci3bbn8adwj-libunistring-1.3 ./store/wph1pwdzril0vfazpa58f6m9shwv9233-busybox-1.36.1 ./store/xg75pc4yyfd5n2fimhb98ps910q5lm5n-bash-5.2p37 ./store/xy8x4g472i5n1bh24c5ixhbnk6qlm9vz-openssl-3.4.1 ./store/y0ii7yfaxi2k2vnfyknb64rcczsdyjkf-libidn2-2.3.8 ./store/y3qvisadf9w5wrdpa8v2vdx5ypa8v8d2-tbb-2021.11.0 ./store/yi6n5l389cg5nh4vy2hdzffhkvinr9l7-libpsl-0.21.5 ./store/yqf0l7fa0d9vflcbba4h6bqxy178qr1x-nix-main-2.30.2 ./store/z8fzi165wkivbikld909bl5zk6r29vsx-acl-2.3.2 /nix/store/\n",
            "\n",
            "to copy the basic Nix files to the new store at /nix/store\n",
            "\n",
            "\n",
            "\u001b[34m---- sudo execution ------------------------------------------------------------\n",
            "\u001b[0mI am executing:\n",
            "\n",
            "    $ sudo chmod -R ugo-w /nix/store/\n",
            "\n",
            "to make the new store non-writable at /nix/store\n",
            "\n",
            "      Alright! We have our first nix at /nix/store/vz9lbmlmh795dzf2brpi50yrpx21rnrp-nix-2.30.2\n",
            "\n",
            "\u001b[34m---- sudo execution ------------------------------------------------------------\n",
            "\u001b[0mI am executing:\n",
            "\n",
            "    $ sudo HOME=/root /nix/store/vz9lbmlmh795dzf2brpi50yrpx21rnrp-nix-2.30.2/bin/nix-store --load-db\n",
            "\n",
            "to load data for the first time in to the Nix Database\n",
            "\n",
            "      Just finished getting the nix database ready.\n",
            "\n",
            "\u001b[32m~~> Setting up shell profiles: /etc/bashrc /etc/profile.d/nix.sh /etc/zshrc /etc/bash.bashrc /etc/zsh/zshrc\n",
            "\u001b[0m\n",
            "\u001b[34m---- sudo execution ------------------------------------------------------------\n",
            "\u001b[0mI am executing:\n",
            "\n",
            "    $ sudo touch /etc/bashrc\n",
            "\n",
            "to create a stub /etc/bashrc which will be updated\n",
            "\n",
            "\n",
            "\u001b[34m---- sudo execution ------------------------------------------------------------\n",
            "\u001b[0mI am executing:\n",
            "\n",
            "    $ sudo tee -a /etc/bashrc\n",
            "\n",
            "extend your /etc/bashrc with nix-daemon settings\n",
            "\n",
            "\n",
            "# Nix\n",
            "if [ -e '/nix/var/nix/profiles/default/etc/profile.d/nix-daemon.sh' ]; then\n",
            "  . '/nix/var/nix/profiles/default/etc/profile.d/nix-daemon.sh'\n",
            "fi\n",
            "# End Nix\n",
            "\n",
            "\n",
            "\u001b[34m---- sudo execution ------------------------------------------------------------\n",
            "\u001b[0mI am executing:\n",
            "\n",
            "    $ sudo touch /etc/profile.d/nix.sh\n",
            "\n",
            "to create a stub /etc/profile.d/nix.sh which will be updated\n",
            "\n",
            "\n",
            "\u001b[34m---- sudo execution ------------------------------------------------------------\n",
            "\u001b[0mI am executing:\n",
            "\n",
            "    $ sudo tee -a /etc/profile.d/nix.sh\n",
            "\n",
            "extend your /etc/profile.d/nix.sh with nix-daemon settings\n",
            "\n",
            "\n",
            "# Nix\n",
            "if [ -e '/nix/var/nix/profiles/default/etc/profile.d/nix-daemon.sh' ]; then\n",
            "  . '/nix/var/nix/profiles/default/etc/profile.d/nix-daemon.sh'\n",
            "fi\n",
            "# End Nix\n",
            "\n",
            "\n",
            "\u001b[34m---- sudo execution ------------------------------------------------------------\n",
            "\u001b[0mI am executing:\n",
            "\n",
            "    $ sudo touch /etc/zshrc\n",
            "\n",
            "to create a stub /etc/zshrc which will be updated\n",
            "\n",
            "\n",
            "\u001b[34m---- sudo execution ------------------------------------------------------------\n",
            "\u001b[0mI am executing:\n",
            "\n",
            "    $ sudo tee -a /etc/zshrc\n",
            "\n",
            "extend your /etc/zshrc with nix-daemon settings\n",
            "\n",
            "\n",
            "# Nix\n",
            "if [ -e '/nix/var/nix/profiles/default/etc/profile.d/nix-daemon.sh' ]; then\n",
            "  . '/nix/var/nix/profiles/default/etc/profile.d/nix-daemon.sh'\n",
            "fi\n",
            "# End Nix\n",
            "\n",
            "\n",
            "\u001b[34m---- sudo execution ------------------------------------------------------------\n",
            "\u001b[0mI am executing:\n",
            "\n",
            "    $ sudo cp /etc/bash.bashrc /etc/bash.bashrc.backup-before-nix\n",
            "\n",
            "to back up your current /etc/bash.bashrc to /etc/bash.bashrc.backup-before-nix\n",
            "\n",
            "\n",
            "\u001b[34m---- sudo execution ------------------------------------------------------------\n",
            "\u001b[0mI am executing:\n",
            "\n",
            "    $ sudo tee -a /etc/bash.bashrc\n",
            "\n",
            "extend your /etc/bash.bashrc with nix-daemon settings\n",
            "\n",
            "\n",
            "# Nix\n",
            "if [ -e '/nix/var/nix/profiles/default/etc/profile.d/nix-daemon.sh' ]; then\n",
            "  . '/nix/var/nix/profiles/default/etc/profile.d/nix-daemon.sh'\n",
            "fi\n",
            "# End Nix\n",
            "\n",
            "\n",
            "\u001b[32m~~> Setting up shell profiles for Fish with conf.d/nix.fish inside /etc/fish /usr/local/etc/fish /opt/homebrew/etc/fish /opt/local/etc/fish\n",
            "\u001b[0m\n",
            "\u001b[32m~~> Setting up the default profile\n",
            "\u001b[0m\n",
            "\u001b[34m---- sudo execution ------------------------------------------------------------\n",
            "\u001b[0mI am executing:\n",
            "\n",
            "    $ sudo HOME=/root /nix/store/vz9lbmlmh795dzf2brpi50yrpx21rnrp-nix-2.30.2/bin/nix-env -i /nix/store/vz9lbmlmh795dzf2brpi50yrpx21rnrp-nix-2.30.2\n",
            "\n",
            "to install a bootstrapping Nix in to the default profile\n",
            "\n",
            "installing 'nix-2.30.2'\n",
            "building '/nix/store/bkn7l92zhni38kj3qk0zhnd155p37qqx-user-environment.drv'...\n",
            "\n",
            "\u001b[34m---- sudo execution ------------------------------------------------------------\n",
            "\u001b[0mI am executing:\n",
            "\n",
            "    $ sudo HOME=/root /nix/store/vz9lbmlmh795dzf2brpi50yrpx21rnrp-nix-2.30.2/bin/nix-env -i /nix/store/2wmmwdbxp6myhdbrqsan7nbpsfazszvl-nss-cacert-3.108\n",
            "\n",
            "to install a bootstrapping SSL certificate just for Nix in to the default profile\n",
            "\n",
            "installing 'nss-cacert-3.108'\n",
            "building '/nix/store/aihwfn64cvjdq3cmk9dmismj916hhkcv-user-environment.drv'...\n",
            "\n",
            "\u001b[34m---- sudo execution ------------------------------------------------------------\n",
            "\u001b[0mI am executing:\n",
            "\n",
            "    $ sudo HOME=/root NIX_SSL_CERT_FILE=/nix/var/nix/profiles/default/etc/ssl/certs/ca-bundle.crt /nix/store/vz9lbmlmh795dzf2brpi50yrpx21rnrp-nix-2.30.2/bin/nix-channel --update nixpkgs\n",
            "\n",
            "to update the default channel in the default profile\n",
            "\n",
            "unpacking 1 channels...\n",
            "\n",
            "\u001b[34m---- sudo execution ------------------------------------------------------------\n",
            "\u001b[0mI am executing:\n",
            "\n",
            "    $ sudo install -m 0644 /tmp/tmp.gtx62LFIKw/nix.conf /etc/nix/nix.conf\n",
            "\n",
            "to place the default nix daemon configuration (part 2)\n",
            "\n",
            "\u001b[32mAlright! We're done!\n",
            "\u001b[0mTry it! Open a new terminal, and type:\n",
            "  $ sudo nix-daemon\n",
            "  $ nix-shell -p nix-info --run \"nix-info -m\"\n",
            "\n",
            "Thank you for using this installer. If you have any feedback or need\n",
            "help, don't hesitate:\n",
            "\n",
            "You can open an issue at\n",
            "https://github.com/NixOS/nix/issues/new?labels=installer&template=installer.md\n",
            "\n",
            "Or get in touch with the community: https://nixos.org/community\n",
            "\n",
            "\u001b[34m---- Reminders -----------------------------------------------------------------\n",
            "\u001b[0m\u001b[34m[ 1 ]\u001b[0m\n",
            "Nix won't work in active shell sessions until you restart them.\n",
            "\n",
            "\u001b[34m[ 2 ]\u001b[0m\n",
            "I don't support your init system yet; you may want to add nix-daemon manually.\n",
            "\n",
            "nix-daemon: no process found\n"
          ]
        }
      ],
      "source": [
        "# @title Setup Nix {display-mode: \"form\"}\n",
        "# @markdown <img src=\"https://raw.githubusercontent.com/NixOS/nixos-artwork/master/logo/nix-snowflake.svg\" width=\"32\"/>\n",
        "# @markdown\n",
        "# @markdown Nix is a package manager with an emphasis on reproducible builds,\n",
        "# @markdown and it is the primary method for installing OpenLane 2.\n",
        "# @markdown\n",
        "# @markdown This step installs the Nix package manager and enables the\n",
        "# @markdown experimental \"flakes\" feature.\n",
        "# @markdown\n",
        "# @markdown If you're not in a Colab, this just sets the environment variables.\n",
        "# @markdown You will need to install Nix and enable flakes on your own following\n",
        "# @markdown [this guide](https://openlane2.readthedocs.io/en/stable/getting_started/common/nix_installation/index.html).\n",
        "import os\n",
        "import sys\n",
        "import shutil\n",
        "\n",
        "os.environ[\"LOCALE_ARCHIVE\"] = \"/usr/lib/locale/locale-archive\"\n",
        "\n",
        "if \"google.colab\" in sys.modules:\n",
        "    if shutil.which(\"nix-env\") is None:\n",
        "        !curl -L https://nixos.org/nix/install | bash -s -- --daemon --yes\n",
        "        !echo \"extra-experimental-features = nix-command flakes\" >> /etc/nix/nix.conf\n",
        "        !killall nix-daemon\n",
        "else:\n",
        "    if shutil.which(\"nix-env\") is None:\n",
        "        raise RuntimeError(\"Nix is not installed!\")\n",
        "\n",
        "os.environ[\"PATH\"] = f\"/nix/var/nix/profiles/default/bin/:{os.getenv('PATH')}\""
      ]
    },
    {
      "cell_type": "code",
      "execution_count": 2,
      "metadata": {
        "colab": {
          "base_uri": "https://localhost:8080/",
          "height": 432,
          "referenced_widgets": [
            "ab3537e9f74641df8a18a1328563b658",
            "bca403fe2fde4cdeaed08b76c278edf4",
            "13cae59be04247a8aef8f0659e15083d",
            "c77375f730e64dfbb3898a2abec8a8f1",
            "ca637dd315cd4a1cb76ec22d132afae9",
            "a2290697b6e84b4a9a80b748336fa217",
            "a53c8c11dfd34edab993b888bfd43e04",
            "0653a1a498124043a3974daa66c3ee69",
            "6940cc34e3314069b43d39e76bf8d9ec",
            "7d96ea178c6f439c92a1d0e3b6d1bd35",
            "0647ceb76c764493a78d9d1771fd0866",
            "c57187ba64a1438ba7d5a4925022a39d",
            "b4afbf6907674f86837daa525314d1f6",
            "5ef66515da0344718bf278e0032ba23d",
            "0fe537c99ab5486fbeacee338ce850a2",
            "c300e2b4ee274c97a4ad8f500dfe36f4",
            "89474c11b2a241bdbb1f37c15b78de2b",
            "ce68fe1bc4e7487483f4bbc151445f49",
            "f810f4fc8d714bf1acc5b4becc179cce",
            "a4e416b6beec461295dee7dd25a02c69",
            "1564beab0946423592dde38465f2b069",
            "db1ca385a566428c878228d4a81228a9",
            "9c8b83fe02f44860b07b73a6acef5b63",
            "356fb94ea5d04a3f830f28e60069e6f1",
            "43bfb78c19984cea913b1d9db1e91e11",
            "13cd4f84043742e9b8b407033a34ca61"
          ]
        },
        "id": "G7lS5K41ZoTo",
        "outputId": "1439bf17-3766-48d9-c41b-a97e7bf12978"
      },
      "outputs": [
        {
          "output_type": "display_data",
          "data": {
            "text/plain": [
              "<IPython.core.display.HTML object>"
            ],
            "text/html": [
              "<h3>Downloading OpenLane…</a>"
            ]
          },
          "metadata": {}
        },
        {
          "output_type": "stream",
          "name": "stdout",
          "text": [
            "  % Total    % Received % Xferd  Average Speed   Time    Time     Time  Current\n",
            "                                 Dload  Upload   Total   Spent    Left  Speed\n",
            "  0     0    0     0    0     0      0      0 --:--:-- --:--:-- --:--:--     0\n",
            "100 9491k    0 9491k    0     0  9827k      0 --:--:-- --:--:-- --:--:-- 16.2M\n"
          ]
        },
        {
          "output_type": "display_data",
          "data": {
            "text/plain": [
              "<IPython.core.display.HTML object>"
            ],
            "text/html": [
              "<h3>Downloading OpenLane's dependencies…</a>"
            ]
          },
          "metadata": {}
        },
        {
          "output_type": "display_data",
          "data": {
            "text/plain": [
              "<IPython.core.display.HTML object>"
            ],
            "text/html": [
              "<h3>Downloading Python dependencies using PIP…</a>"
            ]
          },
          "metadata": {}
        },
        {
          "output_type": "display_data",
          "data": {
            "text/plain": [
              "<IPython.core.display.HTML object>"
            ],
            "text/html": [
              "<h3>Downloading PDK…</a>"
            ]
          },
          "metadata": {}
        },
        {
          "output_type": "display_data",
          "data": {
            "text/plain": [
              "Version bdc9412b3e468c102d01b7cf6337be06ec6e9c9a not found locally, attempting to download…\n"
            ],
            "text/html": [
              "<pre style=\"white-space:pre;overflow-x:auto;line-height:normal;font-family:Menlo,'DejaVu Sans Mono',consolas,'Courier New',monospace\">Version bdc9412b3e468c102d01b7cf6337be06ec6e9c9a not found locally, attempting to download…\n",
              "</pre>\n"
            ]
          },
          "metadata": {}
        },
        {
          "output_type": "display_data",
          "data": {
            "text/plain": [
              "Output()"
            ],
            "application/vnd.jupyter.widget-view+json": {
              "version_major": 2,
              "version_minor": 0,
              "model_id": "ab3537e9f74641df8a18a1328563b658"
            }
          },
          "metadata": {}
        },
        {
          "output_type": "display_data",
          "data": {
            "text/plain": [],
            "text/html": [
              "<pre style=\"white-space:pre;overflow-x:auto;line-height:normal;font-family:Menlo,'DejaVu Sans Mono',consolas,'Courier New',monospace\"></pre>\n"
            ]
          },
          "metadata": {}
        },
        {
          "output_type": "display_data",
          "data": {
            "text/plain": [
              "Output()"
            ],
            "application/vnd.jupyter.widget-view+json": {
              "version_major": 2,
              "version_minor": 0,
              "model_id": "13cae59be04247a8aef8f0659e15083d"
            }
          },
          "metadata": {}
        },
        {
          "output_type": "display_data",
          "data": {
            "text/plain": [],
            "text/html": [
              "<pre style=\"white-space:pre;overflow-x:auto;line-height:normal;font-family:Menlo,'DejaVu Sans Mono',consolas,'Courier New',monospace\"></pre>\n"
            ]
          },
          "metadata": {}
        },
        {
          "output_type": "display_data",
          "data": {
            "text/plain": [
              "Output()"
            ],
            "application/vnd.jupyter.widget-view+json": {
              "version_major": 2,
              "version_minor": 0,
              "model_id": "ca637dd315cd4a1cb76ec22d132afae9"
            }
          },
          "metadata": {}
        },
        {
          "output_type": "display_data",
          "data": {
            "text/plain": [],
            "text/html": [
              "<pre style=\"white-space:pre;overflow-x:auto;line-height:normal;font-family:Menlo,'DejaVu Sans Mono',consolas,'Courier New',monospace\"></pre>\n"
            ]
          },
          "metadata": {}
        },
        {
          "output_type": "display_data",
          "data": {
            "text/plain": [
              "Output()"
            ],
            "application/vnd.jupyter.widget-view+json": {
              "version_major": 2,
              "version_minor": 0,
              "model_id": "a53c8c11dfd34edab993b888bfd43e04"
            }
          },
          "metadata": {}
        },
        {
          "output_type": "display_data",
          "data": {
            "text/plain": [],
            "text/html": [
              "<pre style=\"white-space:pre;overflow-x:auto;line-height:normal;font-family:Menlo,'DejaVu Sans Mono',consolas,'Courier New',monospace\"></pre>\n"
            ]
          },
          "metadata": {}
        },
        {
          "output_type": "display_data",
          "data": {
            "text/plain": [
              "Output()"
            ],
            "application/vnd.jupyter.widget-view+json": {
              "version_major": 2,
              "version_minor": 0,
              "model_id": "6940cc34e3314069b43d39e76bf8d9ec"
            }
          },
          "metadata": {}
        },
        {
          "output_type": "display_data",
          "data": {
            "text/plain": [],
            "text/html": [
              "<pre style=\"white-space:pre;overflow-x:auto;line-height:normal;font-family:Menlo,'DejaVu Sans Mono',consolas,'Courier New',monospace\"></pre>\n"
            ]
          },
          "metadata": {}
        },
        {
          "output_type": "display_data",
          "data": {
            "text/plain": [
              "Output()"
            ],
            "application/vnd.jupyter.widget-view+json": {
              "version_major": 2,
              "version_minor": 0,
              "model_id": "0647ceb76c764493a78d9d1771fd0866"
            }
          },
          "metadata": {}
        },
        {
          "output_type": "display_data",
          "data": {
            "text/plain": [],
            "text/html": [
              "<pre style=\"white-space:pre;overflow-x:auto;line-height:normal;font-family:Menlo,'DejaVu Sans Mono',consolas,'Courier New',monospace\"></pre>\n"
            ]
          },
          "metadata": {}
        },
        {
          "output_type": "display_data",
          "data": {
            "text/plain": [
              "Output()"
            ],
            "application/vnd.jupyter.widget-view+json": {
              "version_major": 2,
              "version_minor": 0,
              "model_id": "b4afbf6907674f86837daa525314d1f6"
            }
          },
          "metadata": {}
        },
        {
          "output_type": "display_data",
          "data": {
            "text/plain": [],
            "text/html": [
              "<pre style=\"white-space:pre;overflow-x:auto;line-height:normal;font-family:Menlo,'DejaVu Sans Mono',consolas,'Courier New',monospace\"></pre>\n"
            ]
          },
          "metadata": {}
        },
        {
          "output_type": "display_data",
          "data": {
            "text/plain": [
              "Output()"
            ],
            "application/vnd.jupyter.widget-view+json": {
              "version_major": 2,
              "version_minor": 0,
              "model_id": "0fe537c99ab5486fbeacee338ce850a2"
            }
          },
          "metadata": {}
        },
        {
          "output_type": "display_data",
          "data": {
            "text/plain": [],
            "text/html": [
              "<pre style=\"white-space:pre;overflow-x:auto;line-height:normal;font-family:Menlo,'DejaVu Sans Mono',consolas,'Courier New',monospace\"></pre>\n"
            ]
          },
          "metadata": {}
        },
        {
          "output_type": "display_data",
          "data": {
            "text/plain": [
              "Output()"
            ],
            "application/vnd.jupyter.widget-view+json": {
              "version_major": 2,
              "version_minor": 0,
              "model_id": "89474c11b2a241bdbb1f37c15b78de2b"
            }
          },
          "metadata": {}
        },
        {
          "output_type": "display_data",
          "data": {
            "text/plain": [],
            "text/html": [
              "<pre style=\"white-space:pre;overflow-x:auto;line-height:normal;font-family:Menlo,'DejaVu Sans Mono',consolas,'Courier New',monospace\"></pre>\n"
            ]
          },
          "metadata": {}
        },
        {
          "output_type": "display_data",
          "data": {
            "text/plain": [
              "Output()"
            ],
            "application/vnd.jupyter.widget-view+json": {
              "version_major": 2,
              "version_minor": 0,
              "model_id": "f810f4fc8d714bf1acc5b4becc179cce"
            }
          },
          "metadata": {}
        },
        {
          "output_type": "display_data",
          "data": {
            "text/plain": [],
            "text/html": [
              "<pre style=\"white-space:pre;overflow-x:auto;line-height:normal;font-family:Menlo,'DejaVu Sans Mono',consolas,'Courier New',monospace\"></pre>\n"
            ]
          },
          "metadata": {}
        },
        {
          "output_type": "display_data",
          "data": {
            "text/plain": [
              "Output()"
            ],
            "application/vnd.jupyter.widget-view+json": {
              "version_major": 2,
              "version_minor": 0,
              "model_id": "1564beab0946423592dde38465f2b069"
            }
          },
          "metadata": {}
        },
        {
          "output_type": "display_data",
          "data": {
            "text/plain": [],
            "text/html": [
              "<pre style=\"white-space:pre;overflow-x:auto;line-height:normal;font-family:Menlo,'DejaVu Sans Mono',consolas,'Courier New',monospace\"></pre>\n"
            ]
          },
          "metadata": {}
        },
        {
          "output_type": "display_data",
          "data": {
            "text/plain": [],
            "text/html": [
              "<pre style=\"white-space:pre;overflow-x:auto;line-height:normal;font-family:Menlo,'DejaVu Sans Mono',consolas,'Courier New',monospace\"></pre>\n"
            ]
          },
          "metadata": {}
        },
        {
          "output_type": "display_data",
          "data": {
            "text/plain": [
              "Output()"
            ],
            "application/vnd.jupyter.widget-view+json": {
              "version_major": 2,
              "version_minor": 0,
              "model_id": "9c8b83fe02f44860b07b73a6acef5b63"
            }
          },
          "metadata": {}
        },
        {
          "output_type": "display_data",
          "data": {
            "text/plain": [],
            "text/html": [
              "<pre style=\"white-space:pre;overflow-x:auto;line-height:normal;font-family:Menlo,'DejaVu Sans Mono',consolas,'Courier New',monospace\"></pre>\n"
            ]
          },
          "metadata": {}
        },
        {
          "output_type": "display_data",
          "data": {
            "text/plain": [
              "Output()"
            ],
            "application/vnd.jupyter.widget-view+json": {
              "version_major": 2,
              "version_minor": 0,
              "model_id": "43bfb78c19984cea913b1d9db1e91e11"
            }
          },
          "metadata": {}
        },
        {
          "output_type": "display_data",
          "data": {
            "text/plain": [],
            "text/html": [
              "<pre style=\"white-space:pre;overflow-x:auto;line-height:normal;font-family:Menlo,'DejaVu Sans Mono',consolas,'Courier New',monospace\"></pre>\n"
            ]
          },
          "metadata": {}
        },
        {
          "output_type": "display_data",
          "data": {
            "text/plain": [],
            "text/html": [
              "<pre style=\"white-space:pre;overflow-x:auto;line-height:normal;font-family:Menlo,'DejaVu Sans Mono',consolas,'Courier New',monospace\"></pre>\n"
            ]
          },
          "metadata": {}
        },
        {
          "output_type": "display_data",
          "data": {
            "text/plain": [
              "Version bdc9412b3e468c102d01b7cf6337be06ec6e9c9a enabled for the sky130 PDK.\n"
            ],
            "text/html": [
              "<pre style=\"white-space:pre;overflow-x:auto;line-height:normal;font-family:Menlo,'DejaVu Sans Mono',consolas,'Courier New',monospace\">Version bdc9412b3e468c102d01b7cf6337be06ec6e9c9a enabled for the sky130 PDK.\n",
              "</pre>\n"
            ]
          },
          "metadata": {}
        },
        {
          "output_type": "display_data",
          "data": {
            "text/plain": [
              "<IPython.core.display.HTML object>"
            ],
            "text/html": [
              "<h3>⭕️ Done.</a>"
            ]
          },
          "metadata": {}
        }
      ],
      "source": [
        "# @title Get OpenLane {display-mode: \"form\"}\n",
        "# @markdown Click the ▷ button to download and install OpenLane.\n",
        "# @markdown\n",
        "# @markdown This will install OpenLane's tool dependencies using Nix,\n",
        "# @markdown and OpenLane itself using PIP.\n",
        "# @markdown\n",
        "# @markdown Note that `python3-tk` may need to be installed using your OS's\n",
        "# @markdown package manager.\n",
        "import os\n",
        "import subprocess\n",
        "import IPython\n",
        "\n",
        "openlane_version = \"version-2.1\"  # @param {key:\"OpenLane Version\", type:\"string\"}\n",
        "\n",
        "if openlane_version == \"latest\":\n",
        "    openlane_version = \"main\"\n",
        "\n",
        "pdk_root = \"~/.volare\"  # @param {key:\"PDK Root\", type:\"string\"}\n",
        "\n",
        "pdk_root = os.path.expanduser(pdk_root)\n",
        "\n",
        "pdk = \"sky130\"  # @param {key:\"PDK (without the variant)\", type:\"string\"}\n",
        "\n",
        "openlane_ipynb_path = os.path.join(os.getcwd(), \"openlane_ipynb\")\n",
        "\n",
        "display(IPython.display.HTML(\"<h3>Downloading OpenLane…</a>\"))\n",
        "\n",
        "\n",
        "TESTING_LOCALLY = False\n",
        "!rm -rf {openlane_ipynb_path}\n",
        "!mkdir -p {openlane_ipynb_path}\n",
        "if TESTING_LOCALLY:\n",
        "    !ln -s {os.getcwd()} {openlane_ipynb_path}\n",
        "else:\n",
        "    !curl -L \"https://github.com/efabless/openlane2/tarball/{openlane_version}\" | tar -xzC {openlane_ipynb_path} --strip-components 1\n",
        "\n",
        "try:\n",
        "    import tkinter\n",
        "except ImportError:\n",
        "    if \"google.colab\" in sys.modules:\n",
        "        !sudo apt-get install python-tk\n",
        "\n",
        "try:\n",
        "    import tkinter\n",
        "except ImportError as e:\n",
        "    display(\n",
        "        IPython.display.HTML(\n",
        "            '<h3 style=\"color: #800020\";>❌ Failed to import the <code>tkinter</code> library for Python, which is required to load PDK configuration values. Make sure <code>python3-tk</code> or equivalent is installed on your system.</a>'\n",
        "        )\n",
        "    )\n",
        "    raise e from None\n",
        "\n",
        "\n",
        "display(IPython.display.HTML(\"<h3>Downloading OpenLane's dependencies…</a>\"))\n",
        "try:\n",
        "    subprocess.check_call(\n",
        "        [\"nix\", \"profile\", \"install\", \".#colab-env\", \"--accept-flake-config\"],\n",
        "        cwd=openlane_ipynb_path,\n",
        "    )\n",
        "except subprocess.CalledProcessError as e:\n",
        "    display(\n",
        "        IPython.display.HTML(\n",
        "            '<h3 style=\"color: #800020\";>❌ Failed to install binary dependencies using Nix…</h3>'\n",
        "        )\n",
        "    )\n",
        "\n",
        "display(IPython.display.HTML(\"<h3>Downloading Python dependencies using PIP…</a>\"))\n",
        "try:\n",
        "    subprocess.check_call(\n",
        "        [\"pip3\", \"install\", \".\"],\n",
        "        cwd=openlane_ipynb_path,\n",
        "    )\n",
        "except subprocess.CalledProcessError as e:\n",
        "    display(\n",
        "        IPython.display.HTML(\n",
        "            '<h3 style=\"color: #800020\";>❌ Failed to install Python dependencies using PIP…</h3>'\n",
        "        )\n",
        "    )\n",
        "    raise e from None\n",
        "\n",
        "display(IPython.display.HTML(\"<h3>Downloading PDK…</a>\"))\n",
        "import volare\n",
        "\n",
        "volare.enable(\n",
        "    volare.get_volare_home(pdk_root),\n",
        "    pdk,\n",
        "    open(\n",
        "        os.path.join(openlane_ipynb_path, \"openlane\", \"open_pdks_rev\"),\n",
        "        encoding=\"utf8\",\n",
        "    )\n",
        "    .read()\n",
        "    .strip(),\n",
        ")\n",
        "\n",
        "sys.path.insert(0, openlane_ipynb_path)\n",
        "display(IPython.display.HTML(\"<h3>⭕️ Done.</a>\"))\n",
        "\n",
        "import logging\n",
        "\n",
        "# Remove the stupid default colab logging handler\n",
        "logging.getLogger().handlers.clear()"
      ]
    },
    {
      "cell_type": "code",
      "execution_count": 13,
      "metadata": {
        "colab": {
          "base_uri": "https://localhost:8080/"
        },
        "id": "VJ7fI84iZoTq",
        "outputId": "d0607b8f-2cd5-4e74-8601-96aeb1d33453"
      },
      "outputs": [
        {
          "output_type": "stream",
          "name": "stdout",
          "text": [
            "2.1.11\n"
          ]
        }
      ],
      "source": [
        "import openlane\n",
        "\n",
        "print(openlane.__version__)"
      ]
    },
    {
      "cell_type": "markdown",
      "metadata": {
        "id": "LXkYDRi2ZoTr"
      },
      "source": [
        "### Creating the design\n",
        "\n",
        "Now that OpenLane is set up, we can write a Verilog file as follows:"
      ]
    },
    {
      "cell_type": "code",
      "execution_count": 14,
      "metadata": {
        "colab": {
          "base_uri": "https://localhost:8080/",
          "height": 106
        },
        "id": "q6M3r8J6ZoTr",
        "outputId": "6a9d050a-e256-4a4d-c4a3-7ac8267ea919"
      },
      "outputs": [
        {
          "output_type": "error",
          "ename": "SyntaxError",
          "evalue": "unterminated string literal (detected at line 15) (ipython-input-3897707768.py, line 15)",
          "traceback": [
            "\u001b[0;36m  File \u001b[0;32m\"/tmp/ipython-input-3897707768.py\"\u001b[0;36m, line \u001b[0;32m15\u001b[0m\n\u001b[0;31m    if (reset_async) {rst_meta,rst_sync} <= 2'b11;\u001b[0m\n\u001b[0m                                             ^\u001b[0m\n\u001b[0;31mSyntaxError\u001b[0m\u001b[0;31m:\u001b[0m unterminated string literal (detected at line 15)\n"
          ]
        }
      ],
      "source": [
        "// ---------sparse_cnn_accelerator_single------//\n",
        "module sparse_cnn_accelerator_single (\n",
        "  input wire clk,\n",
        "  input wire reset_async,\n",
        "  input wire input_valid,\n",
        "  input  wire [7:0]   shared_mask,\n",
        "  input  wire [47:0]  shared_booth_enc,\n",
        "  input wire [63:0] activations,\n",
        "  output wire [17:0] result,\n",
        "  output wire output_valid\n",
        ");\n",
        "  // Reset Synchronization\n",
        "  reg rst_meta, rst_sync;\n",
        "  always @(posedge clk or posedge reset_async) begin\n",
        "    if (reset_async) {rst_meta,rst_sync} <= 2'b11;\n",
        "    else             {rst_meta,rst_sync} <= {1'b0, rst_meta};\n",
        "  end\n",
        "  wire reset = rst_sync;\n",
        "\n",
        "  // input Latching (on valid strobe)\n",
        "  reg [63:0] act_reg;\n",
        "  reg        stage1_valid;\n",
        "  always @(posedge clk) begin\n",
        "    if (reset) begin\n",
        "      act_reg       <= 0;\n",
        "      stage1_valid  <= 0;\n",
        "    end else begin\n",
        "      stage1_valid  <= input_valid;\n",
        "      if (input_valid) begin\n",
        "        act_reg       <= activations;\n",
        "      end\n",
        "    end\n",
        "  end\n",
        "\n",
        "  // MODIFIED: Uses shared mask instead of extracting from weight_mask\n",
        "  wire [3:0] pop_count = shared_mask[0] + shared_mask[1] + shared_mask[2] + shared_mask[3] +\n",
        "                        shared_mask[4] + shared_mask[5] + shared_mask[6] + shared_mask[7];\n",
        "  wire sparsity_ge_50 = (pop_count <= 4);\n",
        "\n",
        "  // Activation Selector (pipelined, robust: see below)\n",
        "  wire [31:0] selected_activations;\n",
        "  wire        selector_done;\n",
        "  activation_selector act_sel (\n",
        "    .clk(clk),\n",
        "    .reset(reset),\n",
        "    .mask(shared_mask), // MODIFIED: Uses shared mask\n",
        "    .activations(act_reg),\n",
        "    .selected_act(selected_activations),\n",
        "    .done(selector_done)\n",
        "  );\n",
        "\n",
        "  // Valid Pipeline (for output valid alignment)\n",
        "  // seven stage valid pipeline:\n",
        "  reg [5:0] vpipe;\n",
        "  always @(posedge clk) begin\n",
        "    if (reset) vpipe <= 0;\n",
        "    else       vpipe <= {vpipe[4:0], stage1_valid};\n",
        "  end\n",
        "\n",
        "  // MODIFIED: Block MAC with registered output\n",
        "  wire [17:0] mac_result;\n",
        "  wire        mac_valid;\n",
        "  block_mac_unit blk_mac (\n",
        "    .clk(clk),\n",
        "    .reset(reset),\n",
        "    .mask(shared_mask), // MODIFIED: Uses shared mask\n",
        "    .booth_encoded(shared_booth_enc), // MODIFIED: Uses shared encoding\n",
        "    .selected_activations(selected_activations),\n",
        "    .selector_done(selector_done),\n",
        "    .sparsity_ge_50(sparsity_ge_50),\n",
        "    .result(mac_result),\n",
        "    .valid(mac_valid)\n",
        "  );\n",
        "\n",
        "  // 8. Output Registering and Assignments\n",
        "  reg [17:0] result_reg;\n",
        "  always @(posedge clk) begin\n",
        "    if (reset) begin\n",
        "      result_reg      <= 0;\n",
        "    end else if(vpipe[5]) begin\n",
        "      // Register the MAC result\n",
        "      result_reg      <= mac_result;\n",
        "    end\n",
        "  end\n",
        "  assign result       = result_reg;\n",
        "  assign output_valid = vpipe[5];\n",
        "\n",
        "endmodule\n",
        "\n",
        "// ========== Booth Encoder (pipelined output) ==========\n",
        "module booth_pre_encoder (\n",
        "  input  wire        clk,\n",
        "  input  wire        reset,\n",
        "  input  wire [31:0] weight,\n",
        "  output reg  [47:0] booth_encoded\n",
        ");\n",
        "  function [2:0] booth_encode(input [2:0] bits);\n",
        "    case (bits)\n",
        "      3'b000: booth_encode = 3'b100; // 0\n",
        "      3'b001: booth_encode = 3'b001; // +1\n",
        "      3'b010: booth_encode = 3'b001; // +1\n",
        "      3'b011: booth_encode = 3'b000; // +2\n",
        "      3'b100: booth_encode = 3'b010; // -2\n",
        "      3'b101: booth_encode = 3'b011; // -1\n",
        "      3'b110: booth_encode = 3'b011; // -1\n",
        "      3'b111: booth_encode = 3'b100; // 0\n",
        "    endcase\n",
        "  endfunction\n",
        "\n",
        "  always @(posedge clk) begin\n",
        "    if (reset) booth_encoded <= 48'd0;\n",
        "    else begin\n",
        "      booth_encoded[2:0]    <= booth_encode({weight[1:0], 1'b0});\n",
        "      booth_encoded[5:3]    <= booth_encode(weight[3:1]);\n",
        "      booth_encoded[8:6]    <= booth_encode(weight[5:3]);\n",
        "      booth_encoded[11:9]   <= booth_encode(weight[7:5]);\n",
        "      booth_encoded[14:12]  <= booth_encode({weight[9:8], 1'b0});\n",
        "      booth_encoded[17:15]  <= booth_encode(weight[11:9]);\n",
        "      booth_encoded[20:18]  <= booth_encode(weight[13:11]);\n",
        "      booth_encoded[23:21]  <= booth_encode(weight[15:13]);\n",
        "      booth_encoded[26:24]  <= booth_encode({weight[17:16], 1'b0});\n",
        "      booth_encoded[29:27]  <= booth_encode(weight[19:17]);\n",
        "      booth_encoded[32:30]  <= booth_encode(weight[21:19]);\n",
        "      booth_encoded[35:33]  <= booth_encode(weight[23:21]);\n",
        "      booth_encoded[38:36]  <= booth_encode({weight[25:24], 1'b0});\n",
        "      booth_encoded[41:39]  <= booth_encode(weight[27:25]);\n",
        "      booth_encoded[44:42]  <= booth_encode(weight[29:27]);\n",
        "      booth_encoded[47:45]  <= booth_encode(weight[31:29]);\n",
        "    end\n",
        "  end\n",
        "endmodule\n",
        "\n",
        "// ========== MAC Unit with Partial Product Generator ==========\n",
        "module generate_pprow (\n",
        "  input  wire [2:0] ctrl,\n",
        "  input  wire [7:0] x,\n",
        "  output reg  [8:0] pp\n",
        ");\n",
        "  wire signed [8:0] sx = {x[7], x}; // Sign-extend\n",
        "\n",
        "  always @(*) begin\n",
        "    case (ctrl)\n",
        "      3'b100: pp = 9'd0;         // 0\n",
        "      3'b001: pp = sx;           // +1\n",
        "      3'b000: pp = sx << 1;      // +2\n",
        "      3'b010: pp = -(sx << 1);   // -2\n",
        "      3'b011: pp = -sx;          // -1\n",
        "      default: pp = 9'd0;\n",
        "    endcase\n",
        "  end\n",
        "endmodule\n",
        "\n",
        "module mac_unit (\n",
        "    input  wire        clk,\n",
        "    input  wire        reset,\n",
        "    input  wire [11:0] enc,       // 4x Radix-4 Booth encodings (3 bits each)\n",
        "    input  wire [7:0]  act,       // 8-bit activation\n",
        "    output wire signed [16:0] result  // 17-bit output (for 18-bit accumulation)\n",
        ");\n",
        "    // ================================================\n",
        "    // Clock Gating Logic (Booth-Zero Aware)\n",
        "    // ================================================\n",
        "    // MODIFIED: Correct Booth-zero detection\n",
        "    function automatic is_booth_active(input [2:0] booth);\n",
        "        return (booth != 3'b100);  // '100' = zero in Radix-4 Booth\n",
        "    endfunction\n",
        "\n",
        "    wire mac_clk_en = is_booth_active(enc[2:0])   ||  // Lane 0\n",
        "                      is_booth_active(enc[5:3])   ||  // Lane 1\n",
        "                      is_booth_active(enc[8:6])   ||  // Lane 2\n",
        "                      is_booth_active(enc[11:9]);     // Lane 3\n",
        "\n",
        "    (* gclk_enable = \"mac_clk_en\" *)\n",
        "    wire gated_clk;\n",
        "    assign gated_clk = clk & mac_clk_en;\n",
        "\n",
        "    // MODIFIED: Partial Product Generation with gated clock\n",
        "    wire [8:0] pp0, pp1, pp2, pp3;\n",
        "    generate_pprow pp0_gen(.ctrl(enc[2:0]), .x(act), .pp(pp0));\n",
        "    generate_pprow pp1_gen(.ctrl(enc[5:3]), .x(act), .pp(pp1));\n",
        "    generate_pprow pp2_gen(.ctrl(enc[8:6]), .x(act), .pp(pp2));\n",
        "    generate_pprow pp3_gen(.ctrl(enc[11:9]), .x(act), .pp(pp3));\n",
        "\n",
        "    // MODIFIED: Wallace Tree Addition with registered output\n",
        "    wire signed [16:0] sp0 = $signed(pp0);\n",
        "    wire signed [16:0] sp1 = $signed(pp1) <<< 2;\n",
        "    wire signed [16:0] sp2 = $signed(pp2) <<< 4;\n",
        "    wire signed [16:0] sp3 = $signed(pp3) <<< 6;\n",
        "\n",
        "    // Stage 1: CSA\n",
        "    wire [16:0] s1 = sp0 ^ sp1 ^ sp2;\n",
        "    wire [16:0] c1 = ((sp0 & sp1) | (sp0 & sp2) | (sp1 & sp2)) << 1;\n",
        "\n",
        "    // Stage 2: CSA + Final CPA\n",
        "    wire [16:0] s2 = s1 ^ c1 ^ sp3;\n",
        "    wire [16:0] c2 = ((s1 & c1) | (s1 & sp3) | (c1 & sp3)) << 1;\n",
        "\n",
        "    // MODIFIED: Register outpck\n",
        "    reg signed [16:0] result_reg;\n",
        "  always @(posedge gated_clk) begin // MAC result registers (clock-gated domain) sync reset\n",
        "        if (reset) begin\n",
        "            result_reg <= 0;\n",
        "        end else begin\n",
        "            result_reg <= s2 + c2;  // Final CPA\n",
        "        end\n",
        "    end\n",
        "\n",
        "    assign result = result_reg;\n",
        "endmodule\n",
        "\n",
        "// ========== Activation Selector ==========\n",
        "module activation_selector (\n",
        "  input  wire        clk,\n",
        "  input  wire        reset,\n",
        "  input  wire [7:0]  mask,\n",
        "  input  wire [63:0] activations,\n",
        "  output reg  [31:0] selected_act,\n",
        "  output reg         done\n",
        ");\n",
        "  //reg [7:0] mask_reg;\n",
        "  reg [63:0] act_reg;\n",
        "  always @(posedge clk) begin\n",
        "    if (reset) begin\n",
        "      //mask_reg <= 0;\n",
        "      act_reg  <= 0;\n",
        "    end else begin\n",
        "      //mask_reg <= mask;\n",
        "      act_reg  <= activations;\n",
        "    end\n",
        "  end\n",
        "\n",
        "  function [2:0] pe(input [7:0] m); // priority encoder\n",
        "    casez (m)\n",
        "      8'b???????1: pe = 3'd0;\n",
        "      8'b??????10: pe = 3'd1;\n",
        "      8'b?????100: pe = 3'd2;\n",
        "      8'b????1000: pe = 3'd3;\n",
        "      8'b???10000: pe = 3'd4;\n",
        "      8'b??100000: pe = 3'd5;\n",
        "      8'b?1000000: pe = 3'd6;\n",
        "      8'b10000000: pe = 3'd7;\n",
        "      default: pe = 3'd0;\n",
        "    endcase\n",
        "  endfunction\n",
        "\n",
        "  reg        cycle;\n",
        "  reg [7:0]  rem_mask;\n",
        "\n",
        "  //wire [3:0] popcount = mask_reg[0]+mask_reg[1]+mask_reg[2]+mask_reg[3]+mask_reg[4]+mask_reg[5]+mask_reg[6]+mask_reg[7];\n",
        "  wire [3:0] popcount = mask[0]+mask[1]+mask[2]+mask[3]+mask[4]+mask[5]+mask[6]+mask[7];\n",
        "  wire       sparse   = (popcount <= 4);\n",
        "\n",
        "  //wire [7:0] sel_mask = (sparse || !cycle) ? mask_reg : rem_mask;.\n",
        "  wire [7:0] sel_mask = (sparse || !cycle) ? mask : rem_mask;\n",
        "\n",
        "  wire [2:0] i0 = pe(sel_mask);\n",
        "  wire [7:0] m1 = sel_mask & ~(8'd1 << i0);\n",
        "  wire [2:0] i1 = pe(m1);\n",
        "  wire [7:0] m2 = m1      & ~(8'd1 << i1);\n",
        "  wire [2:0] i2 = pe(m2);\n",
        "  wire [7:0] m3 = m2      & ~(8'd1 << i2);\n",
        "  wire [2:0] i3 = pe(m3);\n",
        "\n",
        "  wire [7:0] a0 = act_reg[i0*8 +:8];\n",
        "  wire [7:0] a1 = act_reg[i1*8 +:8];\n",
        "  wire [7:0] a2 = act_reg[i2*8 +:8];\n",
        "  wire [7:0] a3 = act_reg[i3*8 +:8];\n",
        "\n",
        "  always @(posedge clk) begin\n",
        "    if (reset) begin\n",
        "      selected_act <= 0;\n",
        "      done         <= 0;\n",
        "      cycle        <= 0;\n",
        "      rem_mask     <= 0;\n",
        "    end else if (sparse) begin\n",
        "      // Single cycle operation: output selection\n",
        "      selected_act <= {a3,a2,a1,a0};\n",
        "      done         <= 1;\n",
        "      cycle        <= 0;\n",
        "    end else if (!cycle) begin // first half dense\n",
        "      selected_act <= {a3,a2,a1,a0};\n",
        "      rem_mask     <= m3 & ~(8'd1 << i3);\n",
        "      done         <= 1;\n",
        "      cycle        <= 1;\n",
        "    end else begin // second half dense\n",
        "      selected_act <= {a3,a2,a1,a0};\n",
        "      done         <= 1;\n",
        "      cycle        <= 0;\n",
        "    end\n",
        "  end\n",
        "endmodule\n",
        "\n",
        "// ========== Block MAC Unit ==========\n",
        "// Always update inputs on selector_done; only asserts valid after the second cycle if low sparsity\n",
        "module block_mac_unit (\n",
        "  input  wire        clk,\n",
        "  input  wire        reset,\n",
        "  input  wire [7:0]  mask,\n",
        "  input  wire [47:0] booth_encoded,\n",
        "  input  wire [31:0] selected_activations,\n",
        "  input  wire        selector_done,\n",
        "  input  wire        sparsity_ge_50,\n",
        "  output reg  [17:0] result,\n",
        "  output reg         valid\n",
        ");\n",
        "  // Input pipelining (latch on selector_done)\n",
        "  reg [47:0] booth_encoded_r;\n",
        "  reg [31:0] selected_activations_r;\n",
        "  reg        selector_done_r;\n",
        "\n",
        "  always @(posedge clk) begin\n",
        "    if (reset) begin\n",
        "      booth_encoded_r        <= 48'd0;\n",
        "      selected_activations_r <= 32'd0;\n",
        "      selector_done_r        <= 1'b0;\n",
        "    end else begin\n",
        "      selector_done_r <= selector_done;\n",
        "      if (selector_done) begin\n",
        "        booth_encoded_r        <= booth_encoded;\n",
        "        selected_activations_r <= selected_activations;\n",
        "      end\n",
        "    end\n",
        "  end\n",
        "\n",
        "  // MACs for 4 lanes\n",
        "  wire signed [16:0] mac0_result, mac1_result, mac2_result, mac3_result;\n",
        "  mac_unit mac0 (.clk(clk), .reset(reset), .enc(booth_encoded[11:0]), .act(selected_activations[7:0]), .result(mac0_result));\n",
        "  mac_unit mac1 (.clk(clk), .reset(reset), .enc(booth_encoded[23:12]), .act(selected_activations[15:8]), .result(mac1_result));\n",
        "  mac_unit mac2 (.clk(clk), .reset(reset), .enc(booth_encoded[35:24]), .act(selected_activations[23:16]), .result(mac2_result));\n",
        "  mac_unit mac3 (.clk(clk), .reset(reset), .enc(booth_encoded[47:36]), .act(selected_activations[31:24]), .result(mac3_result));\n",
        "\n",
        "  wire signed [17:0] mac_sum =\n",
        "  {mac0_result[16], mac0_result} +\n",
        "  {mac1_result[16], mac1_result} +\n",
        "  {mac2_result[16], mac2_result} +\n",
        "  {mac3_result[16], mac3_result};\n",
        "\n",
        "  // Dense-mode accumulator\n",
        "  reg [17:0] partial_sum;\n",
        "  reg accumulation_cycle;\n",
        "\n",
        "  always @(posedge clk) begin\n",
        "    if (reset) begin\n",
        "      result <= 0;\n",
        "      valid <= 0;\n",
        "      partial_sum <= 0;\n",
        "      accumulation_cycle <= 0;\n",
        "    end else begin\n",
        "      valid <= 0;         // Default: valid low\n",
        "      if (selector_done_r) begin\n",
        "        if (sparsity_ge_50) begin\n",
        "          result <= mac_sum;\n",
        "          valid <= 1;\n",
        "        end else begin\n",
        "          if (!accumulation_cycle) begin\n",
        "            // First cycle of accumulation\n",
        "            partial_sum <= mac_sum;\n",
        "            accumulation_cycle <= 1;\n",
        "          end else begin\n",
        "            result <= partial_sum + mac_sum;\n",
        "            valid <= 1;\n",
        "            accumulation_cycle <= 0;\n",
        "          end\n",
        "        end\n",
        "      end\n",
        "    end\n",
        "  end\n",
        "endmodule"
      ]
    },
    {
      "cell_type": "markdown",
      "metadata": {
        "id": "HgFpStBAZoTs"
      },
      "source": [
        "### Setting up the configuration\n",
        "\n",
        "OpenLane requries you to configure any Flow before using it. This is done using\n",
        "the `config` module.\n",
        "\n",
        "For colaboratories, REPLs and other interactive environments where there is no\n",
        "concrete Flow object, the Configuration may be initialized using `Config.interactive`,\n",
        "which will automatically propagate the configuration to any future steps.\n",
        "\n",
        "You can find the documentation for `Config.interactive` [here](https://openlane2.readthedocs.io/en/latest/reference/api/config/index.html#openlane.config.Config.interactive).\n",
        "\n"
      ]
    },
    {
      "cell_type": "code",
      "execution_count": 15,
      "metadata": {
        "colab": {
          "base_uri": "https://localhost:8080/",
          "height": 1000
        },
        "id": "hHnMTbP6ZoTt",
        "outputId": "1a366ded-0495-4b9c-9e4e-c9290933ca2c"
      },
      "outputs": [
        {
          "output_type": "execute_result",
          "data": {
            "text/plain": [
              "{'STD_CELL_LIBRARY': 'sky130_fd_sc_hd', 'VDD_PIN': 'VPWR', 'VDD_PIN_VOLTAGE': Decimal('1.80'), 'GND_PIN': 'VGND', 'WIRE_LENGTH_THRESHOLD': None, 'TECH_LEFS': {'nom_*': Path('/root/.volare/sky130A/libs.ref/sky130_fd_sc_hd/techlef/sky130_fd_sc_hd__nom.tlef'), 'min_*': Path('/root/.volare/sky130A/libs.ref/sky130_fd_sc_hd/techlef/sky130_fd_sc_hd__min.tlef'), 'max_*': Path('/root/.volare/sky130A/libs.ref/sky130_fd_sc_hd/techlef/sky130_fd_sc_hd__max.tlef')}, 'GPIO_PADS_LEF': [Path('/root/.volare/sky130A/libs.ref/sky130_fd_io/lef/sky130_fd_io.lef'), Path('/root/.volare/sky130A/libs.ref/sky130_fd_io/lef/sky130_ef_io.lef')], 'GPIO_PADS_LEF_CORE_SIDE': [Path('/root/.volare/sky130A/libs.tech/openlane/custom_cells/lef/sky130_fd_io_core.lef'), Path('/root/.volare/sky130A/libs.tech/openlane/custom_cells/lef/sky130_ef_io_core.lef')], 'GPIO_PADS_VERILOG': [Path('/root/.volare/sky130A/libs.ref/sky130_fd_io/verilog/sky130_ef_io.v')], 'GPIO_PAD_CELLS': ['sky130_fd_io*', 'sky130_ef_io*'], 'PRIMARY_GDSII_STREAMOUT_TOOL': 'klayout', 'DEFAULT_MAX_TRAN': None, 'SIGNAL_WIRE_RC_LAYERS': None, 'CLOCK_WIRE_RC_LAYERS': None, 'DEFAULT_CORNER': 'nom_tt_025C_1v80', 'STA_CORNERS': ['nom_tt_025C_1v80', 'nom_ss_100C_1v60', 'nom_ff_n40C_1v95', 'min_tt_025C_1v80', 'min_ss_100C_1v60', 'min_ff_n40C_1v95', 'max_tt_025C_1v80', 'max_ss_100C_1v60', 'max_ff_n40C_1v95'], 'FP_TRACKS_INFO': Path('/root/.volare/sky130A/libs.tech/openlane/sky130_fd_sc_hd/tracks.info'), 'FP_TAPCELL_DIST': Decimal('13'), 'FP_IO_HLAYER': 'met3', 'FP_IO_VLAYER': 'met2', 'RT_MIN_LAYER': 'met1', 'RT_MAX_LAYER': 'met5', 'SCL_GROUND_PINS': ['VGND', 'VNB'], 'SCL_POWER_PINS': ['VPWR', 'VPB'], 'TRISTATE_CELLS': ['sky130_fd_sc_hd__ebuf*'], 'FILL_CELL': ['sky130_fd_sc_hd__fill*'], 'DECAP_CELL': ['sky130_ef_sc_hd__decap_12', 'sky130_fd_sc_hd__decap_8', 'sky130_fd_sc_hd__decap_6', 'sky130_fd_sc_hd__decap_4', 'sky130_fd_sc_hd__decap_3'], 'LIB': {'*_tt_025C_1v80': [Path('/root/.volare/sky130A/libs.ref/sky130_fd_sc_hd/lib/sky130_fd_sc_hd__tt_025C_1v80.lib')], '*_ss_100C_1v60': [Path('/root/.volare/sky130A/libs.ref/sky130_fd_sc_hd/lib/sky130_fd_sc_hd__ss_100C_1v60.lib')], '*_ff_n40C_1v95': [Path('/root/.volare/sky130A/libs.ref/sky130_fd_sc_hd/lib/sky130_fd_sc_hd__ff_n40C_1v95.lib')]}, 'CELL_LEFS': [Path('/root/.volare/sky130A/libs.ref/sky130_fd_sc_hd/lef/sky130_fd_sc_hd.lef'), Path('/root/.volare/sky130A/libs.ref/sky130_fd_sc_hd/lef/sky130_ef_sc_hd.lef')], 'CELL_GDS': [Path('/root/.volare/sky130A/libs.ref/sky130_fd_sc_hd/gds/sky130_fd_sc_hd.gds')], 'CELL_VERILOG_MODELS': [Path('/root/.volare/sky130A/libs.ref/sky130_fd_sc_hd/verilog/primitives.v'), Path('/root/.volare/sky130A/libs.ref/sky130_fd_sc_hd/verilog/sky130_fd_sc_hd.v')], 'CELL_BB_VERILOG_MODELS': [Path('/root/.volare/sky130A/libs.ref/sky130_fd_sc_hd/verilog/sky130_fd_sc_hd__blackbox.v'), Path('/root/.volare/sky130A/libs.ref/sky130_fd_sc_hd/verilog/sky130_fd_sc_hd__blackbox_pp.v')], 'CELL_SPICE_MODELS': [Path('/root/.volare/sky130A/libs.ref/sky130_fd_sc_hd/spice/sky130_ef_sc_hd__decap_12.spice'), Path('/root/.volare/sky130A/libs.ref/sky130_fd_sc_hd/spice/sky130_ef_sc_hd__fill_12.spice'), Path('/root/.volare/sky130A/libs.ref/sky130_fd_sc_hd/spice/sky130_ef_sc_hd__fill_4.spice'), Path('/root/.volare/sky130A/libs.ref/sky130_fd_sc_hd/spice/sky130_ef_sc_hd__fill_8.spice'), Path('/root/.volare/sky130A/libs.ref/sky130_fd_sc_hd/spice/sky130_fd_sc_hd.spice')], 'SYNTH_EXCLUDED_CELL_FILE': Path('/root/.volare/sky130A/libs.tech/openlane/sky130_fd_sc_hd/no_synth.cells'), 'PNR_EXCLUDED_CELL_FILE': Path('/root/.volare/sky130A/libs.tech/openlane/sky130_fd_sc_hd/drc_exclude.cells'), 'OUTPUT_CAP_LOAD': Decimal('33.442'), 'MAX_FANOUT_CONSTRAINT': 10, 'MAX_TRANSITION_CONSTRAINT': Decimal('0.75'), 'MAX_CAPACITANCE_CONSTRAINT': Decimal('0.2'), 'CLOCK_UNCERTAINTY_CONSTRAINT': Decimal('0.25'), 'CLOCK_TRANSITION_CONSTRAINT': Decimal('0.1499999999999999944488848768742172978818416595458984375'), 'TIME_DERATING_CONSTRAINT': Decimal('5'), 'IO_DELAY_CONSTRAINT': Decimal('20'), 'SYNTH_DRIVING_CELL': 'sky130_fd_sc_hd__inv_2/Y', 'SYNTH_CLK_DRIVING_CELL': None, 'SYNTH_TIEHI_CELL': 'sky130_fd_sc_hd__conb_1/HI', 'SYNTH_TIELO_CELL': 'sky130_fd_sc_hd__conb_1/LO', 'SYNTH_BUFFER_CELL': 'sky130_fd_sc_hd__buf_2/A/X', 'WELLTAP_CELL': 'sky130_fd_sc_hd__tapvpwrvgnd_1', 'ENDCAP_CELL': 'sky130_fd_sc_hd__decap_3', 'PLACE_SITE': 'unithd', 'CELL_PAD_EXCLUDE': ['sky130_fd_sc_hd__tap*', 'sky130_fd_sc_hd__decap*', 'sky130_ef_sc_hd__decap*', 'sky130_fd_sc_hd__fill*'], 'DIODE_CELL': 'sky130_fd_sc_hd__diode_2/DIODE', 'DESIGN_DIR': Path('.'), 'PDK_ROOT': Path('/root/.volare'), 'DESIGN_NAME': 'sparse_cnn_accelerator_single', 'PDK': 'sky130A', 'CLOCK_PERIOD': Decimal('10'), 'CLOCK_PORT': 'clk', 'CLOCK_NET': 'clk', 'VDD_NETS': None, 'GND_NETS': None, 'DIE_AREA': None, 'EXTRA_EXCLUDED_CELLS': None, 'MACROS': None, 'EXTRA_LEFS': None, 'EXTRA_VERILOG_MODELS': None, 'EXTRA_SPICE_MODELS': None, 'EXTRA_LIBS': None, 'EXTRA_GDS_FILES': None, 'FALLBACK_SDC_FILE': Path('/usr/local/lib/python3.11/dist-packages/openlane/scripts/base.sdc'), 'meta': Meta(version=1, flow=None, substituting_steps=None, step=None, openlane_version='2.1.11')}"
            ],
            "text/markdown": "\n### Interactive Configuration\n#### Initial Values\n\n<br />\n\n```yaml\nCELL_BB_VERILOG_MODELS:\n- /root/.volare/sky130A/libs.ref/sky130_fd_sc_hd/verilog/sky130_fd_sc_hd__blackbox.v\n- /root/.volare/sky130A/libs.ref/sky130_fd_sc_hd/verilog/sky130_fd_sc_hd__blackbox_pp.v\nCELL_GDS:\n- /root/.volare/sky130A/libs.ref/sky130_fd_sc_hd/gds/sky130_fd_sc_hd.gds\nCELL_LEFS:\n- /root/.volare/sky130A/libs.ref/sky130_fd_sc_hd/lef/sky130_fd_sc_hd.lef\n- /root/.volare/sky130A/libs.ref/sky130_fd_sc_hd/lef/sky130_ef_sc_hd.lef\nCELL_PAD_EXCLUDE:\n- sky130_fd_sc_hd__tap*\n- sky130_fd_sc_hd__decap*\n- sky130_ef_sc_hd__decap*\n- sky130_fd_sc_hd__fill*\nCELL_SPICE_MODELS:\n- /root/.volare/sky130A/libs.ref/sky130_fd_sc_hd/spice/sky130_ef_sc_hd__decap_12.spice\n- /root/.volare/sky130A/libs.ref/sky130_fd_sc_hd/spice/sky130_ef_sc_hd__fill_12.spice\n- /root/.volare/sky130A/libs.ref/sky130_fd_sc_hd/spice/sky130_ef_sc_hd__fill_4.spice\n- /root/.volare/sky130A/libs.ref/sky130_fd_sc_hd/spice/sky130_ef_sc_hd__fill_8.spice\n- /root/.volare/sky130A/libs.ref/sky130_fd_sc_hd/spice/sky130_fd_sc_hd.spice\nCELL_VERILOG_MODELS:\n- /root/.volare/sky130A/libs.ref/sky130_fd_sc_hd/verilog/primitives.v\n- /root/.volare/sky130A/libs.ref/sky130_fd_sc_hd/verilog/sky130_fd_sc_hd.v\nCLOCK_NET: clk\nCLOCK_PERIOD: 10\nCLOCK_PORT: clk\nCLOCK_TRANSITION_CONSTRAINT: 0.15\nCLOCK_UNCERTAINTY_CONSTRAINT: 0.25\nCLOCK_WIRE_RC_LAYERS: null\nDECAP_CELL:\n- sky130_ef_sc_hd__decap_12\n- sky130_fd_sc_hd__decap_8\n- sky130_fd_sc_hd__decap_6\n- sky130_fd_sc_hd__decap_4\n- sky130_fd_sc_hd__decap_3\nDEFAULT_CORNER: nom_tt_025C_1v80\nDEFAULT_MAX_TRAN: null\nDESIGN_DIR: .\nDESIGN_NAME: sparse_cnn_accelerator_single\nDIE_AREA: null\nDIODE_CELL: sky130_fd_sc_hd__diode_2/DIODE\nENDCAP_CELL: sky130_fd_sc_hd__decap_3\nEXTRA_EXCLUDED_CELLS: null\nEXTRA_GDS_FILES: null\nEXTRA_LEFS: null\nEXTRA_LIBS: null\nEXTRA_SPICE_MODELS: null\nEXTRA_VERILOG_MODELS: null\nFALLBACK_SDC_FILE: /usr/local/lib/python3.11/dist-packages/openlane/scripts/base.sdc\nFILL_CELL:\n- sky130_fd_sc_hd__fill*\nFP_IO_HLAYER: met3\nFP_IO_VLAYER: met2\nFP_TAPCELL_DIST: 13\nFP_TRACKS_INFO: /root/.volare/sky130A/libs.tech/openlane/sky130_fd_sc_hd/tracks.info\nGND_NETS: null\nGND_PIN: VGND\nGPIO_PADS_LEF:\n- /root/.volare/sky130A/libs.ref/sky130_fd_io/lef/sky130_fd_io.lef\n- /root/.volare/sky130A/libs.ref/sky130_fd_io/lef/sky130_ef_io.lef\nGPIO_PADS_LEF_CORE_SIDE:\n- /root/.volare/sky130A/libs.tech/openlane/custom_cells/lef/sky130_fd_io_core.lef\n- /root/.volare/sky130A/libs.tech/openlane/custom_cells/lef/sky130_ef_io_core.lef\nGPIO_PADS_VERILOG:\n- /root/.volare/sky130A/libs.ref/sky130_fd_io/verilog/sky130_ef_io.v\nGPIO_PAD_CELLS:\n- sky130_fd_io*\n- sky130_ef_io*\nIO_DELAY_CONSTRAINT: 20\nLIB:\n  '*_ff_n40C_1v95':\n  - /root/.volare/sky130A/libs.ref/sky130_fd_sc_hd/lib/sky130_fd_sc_hd__ff_n40C_1v95.lib\n  '*_ss_100C_1v60':\n  - /root/.volare/sky130A/libs.ref/sky130_fd_sc_hd/lib/sky130_fd_sc_hd__ss_100C_1v60.lib\n  '*_tt_025C_1v80':\n  - /root/.volare/sky130A/libs.ref/sky130_fd_sc_hd/lib/sky130_fd_sc_hd__tt_025C_1v80.lib\nMACROS: null\nMAX_CAPACITANCE_CONSTRAINT: 0.2\nMAX_FANOUT_CONSTRAINT: 10\nMAX_TRANSITION_CONSTRAINT: 0.75\nOUTPUT_CAP_LOAD: 33.442\nPDK: sky130A\nPDK_ROOT: /root/.volare\nPLACE_SITE: unithd\nPNR_EXCLUDED_CELL_FILE: /root/.volare/sky130A/libs.tech/openlane/sky130_fd_sc_hd/drc_exclude.cells\nPRIMARY_GDSII_STREAMOUT_TOOL: klayout\nRT_MAX_LAYER: met5\nRT_MIN_LAYER: met1\nSCL_GROUND_PINS:\n- VGND\n- VNB\nSCL_POWER_PINS:\n- VPWR\n- VPB\nSIGNAL_WIRE_RC_LAYERS: null\nSTA_CORNERS:\n- nom_tt_025C_1v80\n- nom_ss_100C_1v60\n- nom_ff_n40C_1v95\n- min_tt_025C_1v80\n- min_ss_100C_1v60\n- min_ff_n40C_1v95\n- max_tt_025C_1v80\n- max_ss_100C_1v60\n- max_ff_n40C_1v95\nSTD_CELL_LIBRARY: sky130_fd_sc_hd\nSYNTH_BUFFER_CELL: sky130_fd_sc_hd__buf_2/A/X\nSYNTH_CLK_DRIVING_CELL: null\nSYNTH_DRIVING_CELL: sky130_fd_sc_hd__inv_2/Y\nSYNTH_EXCLUDED_CELL_FILE: /root/.volare/sky130A/libs.tech/openlane/sky130_fd_sc_hd/no_synth.cells\nSYNTH_TIEHI_CELL: sky130_fd_sc_hd__conb_1/HI\nSYNTH_TIELO_CELL: sky130_fd_sc_hd__conb_1/LO\nTECH_LEFS:\n  max_*: /root/.volare/sky130A/libs.ref/sky130_fd_sc_hd/techlef/sky130_fd_sc_hd__max.tlef\n  min_*: /root/.volare/sky130A/libs.ref/sky130_fd_sc_hd/techlef/sky130_fd_sc_hd__min.tlef\n  nom_*: /root/.volare/sky130A/libs.ref/sky130_fd_sc_hd/techlef/sky130_fd_sc_hd__nom.tlef\nTIME_DERATING_CONSTRAINT: 5\nTRISTATE_CELLS:\n- sky130_fd_sc_hd__ebuf*\nVDD_NETS: null\nVDD_PIN: VPWR\nVDD_PIN_VOLTAGE: 1.8\nWELLTAP_CELL: sky130_fd_sc_hd__tapvpwrvgnd_1\nWIRE_LENGTH_THRESHOLD: null\nmeta:\n  flow: null\n  openlane_version: 2.1.11\n  step: null\n  substituting_steps: null\n  version: 1\n\n```\n"
          },
          "metadata": {},
          "execution_count": 15
        }
      ],
      "source": [
        "from openlane.config import Config\n",
        "\n",
        "Config.interactive(\n",
        "    \"sparse_cnn_accelerator_single\",                           # <-- Your top-level module name\n",
        "    PDK=\"sky130A\",\n",
        "    CLOCK_PORT=\"clk\",\n",
        "    CLOCK_NET=\"clk\",\n",
        "    CLOCK_PERIOD=10,                        # <-- ns\n",
        "    #SDC=\"src/design.sdc\",                   # <-- Path to your SDC, if available\n",
        "    PRIMARY_GDSII_STREAMOUT_TOOL=\"klayout\",\n",
        "    # Optionally, set area hint (first run: let tool decide, later you can add DIE_AREA/CORE_AREA based on reports)\n",
        "    # DIE_AREA=[0, 0, 500, 500],            # <-- Uncomment and adjust after first successful run, if you like\n",
        "    # CORE_AREA=[50, 50, 450, 450],         # <-- As above\n",
        "    # Any extra config options: e.g., timing signoff corners, lib/lef paths, etc.\n",
        ")\n"
      ]
    },
    {
      "cell_type": "markdown",
      "metadata": {
        "id": "ClZzubm0ZoTu"
      },
      "source": [
        "### Running implementation steps\n",
        "\n",
        "There are two ways to obtain OpenLane's built-in implementation steps:\n",
        "\n",
        "* via directly importing from the `steps` module using its category:\n",
        "    * `from openlane.steps import Yosys` then `Synthesis = Yosys.Synthesis`\n",
        "* by using the step's id from the registry:\n",
        "    * `from openlane.steps import Step` then `Synthesis = Step.factory.get(\"Yosys.Synthesis\")`\n",
        "\n",
        "You can find a full list of included steps here: https://openlane2.readthedocs.io/en/latest/reference/step_config_vars.html"
      ]
    },
    {
      "cell_type": "code",
      "execution_count": 16,
      "metadata": {
        "id": "abSsYTn5ZoTu"
      },
      "outputs": [],
      "source": [
        "from openlane.steps import Step"
      ]
    },
    {
      "cell_type": "markdown",
      "metadata": {
        "id": "SvTkgH85ZoTu"
      },
      "source": [
        "* First, get the step (and display its help)..."
      ]
    },
    {
      "cell_type": "code",
      "execution_count": 17,
      "metadata": {
        "colab": {
          "base_uri": "https://localhost:8080/",
          "height": 1000
        },
        "id": "8m4Alyh_ZoTv",
        "outputId": "e9c1041d-b671-49c1-8665-89f13b19c74c"
      },
      "outputs": [
        {
          "output_type": "display_data",
          "data": {
            "text/plain": [
              "<IPython.core.display.Markdown object>"
            ],
            "text/markdown": "\n(step-yosys-synthesis)=\n### Synthesis\n\n```{eval-rst}\n\nPerforms synthesis and technology mapping on Verilog RTL files\nusing Yosys and ABC, emitting a netlist.\n\nSome metrics will also be extracted and updated, namely:\n\n* ``design__instance__count``\n* ``design__instance_unmapped__count``\n* ``design__instance__area``\n\n```\n\n#### Importing\n```python\nfrom openlane.steps.yosys import Synthesis\n\n# or\n\nfrom openlane.steps import Step\n\nSynthesis = Step.factory.get(\"Yosys.Synthesis\")\n```\n\n\n#### Inputs and Outputs\n\n| Inputs | Outputs |\n| - | - |\n|  | Verilog Netlist (.nl.v) |\n\n(yosys.synthesis-configuration-variables)=\n#### Configuration Variables\n\n| Variable Name | Type | Description | Default | Units |\n| - | - | - | - | - |\n| `SYNTH_LATCH_MAP`{#var-yosys-synthesis-synth_latch_map}<sup>PDK</sup> | Path? | A path to a file containing the latch mapping for Yosys. | `None` |  |\n| `SYNTH_TRISTATE_MAP`{#var-yosys-synthesis-synth_tristate_map}<sup>PDK</sup> | Path? | A path to a file containing the tri-state buffer mapping for Yosys. | `None` |  |\n| `SYNTH_CSA_MAP`{#var-yosys-synthesis-synth_csa_map}<sup>PDK</sup> | Path? | A path to a file containing the carry-select adder mapping for Yosys. | `None` |  |\n| `SYNTH_RCA_MAP`{#var-yosys-synthesis-synth_rca_map}<sup>PDK</sup> | Path? | A path to a file containing the ripple-carry adder mapping for Yosys. | `None` |  |\n| `SYNTH_FA_MAP`{#var-yosys-synthesis-synth_fa_map}<sup>PDK</sup> | Path? | A path to a file containing the full adder mapping for Yosys. | `None` |  |\n| `SYNTH_MUX_MAP`{#var-yosys-synthesis-synth_mux_map}<sup>PDK</sup> | Path? | A path to a file containing the mux mapping for Yosys. | `None` |  |\n| `SYNTH_MUX4_MAP`{#var-yosys-synthesis-synth_mux4_map}<sup>PDK</sup> | Path? | A path to a file containing the mux4 mapping for Yosys. | `None` |  |\n| `USE_LIGHTER`{#var-yosys-synthesis-use_lighter} | bool | Activates Lighter, an experimental plugin that attempts to optimize clock-gated flip-flops. | `False` |  |\n| `LIGHTER_DFF_MAP`{#var-yosys-synthesis-lighter_dff_map} | Path? | An override to the custom DFF map file provided for the given SCL by Lighter. | `None` |  |\n| `YOSYS_LOG_LEVEL`{#var-yosys-synthesis-yosys_log_level} | 'ALL'｜<br />'WARNING'｜<br />'ERROR' | Which log level for Yosys. At WARNING or higher, the initialization splash is also disabled. | `ALL` |  |\n| `SYNTH_CHECKS_ALLOW_TRISTATE`{#var-yosys-synthesis-synth_checks_allow_tristate} | bool | Ignore multiple-driver warnings if they are connected to tri-state buffers on a best-effort basis. | `True` |  |\n| `SYNTH_AUTONAME`{#var-yosys-synthesis-synth_autoname} | bool | Generates names for netlist instances. This results in instance names that can be extremely long, but are more human-readable. | `False` |  |\n| `SYNTH_STRATEGY`{#var-yosys-synthesis-synth_strategy} | 'AREA 0'｜<br />'AREA 1'｜<br />'AREA 2'｜<br />'AREA 3'｜<br />'DELAY 0'｜<br />'DELAY 1'｜<br />'DELAY 2'｜<br />'DELAY 3'｜<br />'DELAY 4' | Strategies for abc logic synthesis and technology mapping. AREA strategies usually result in a more compact design, while DELAY strategies usually result in a design that runs at a higher frequency. Please note that there is no way to know which strategy is the best before trying them. | `AREA 0` |  |\n| `SYNTH_ABC_BUFFERING`{#var-yosys-synthesis-synth_abc_buffering} | bool | Enables `abc` cell buffering. | `False` |  |\n| `SYNTH_ABC_LEGACY_REFACTOR`{#var-yosys-synthesis-synth_abc_legacy_refactor} | bool | Replaces the ABC command `drf -l` with `refactor` which matches older versions of OpenLane but is more unstable. | `False` |  |\n| `SYNTH_ABC_LEGACY_REWRITE`{#var-yosys-synthesis-synth_abc_legacy_rewrite} | bool | Replaces the ABC command `drw -l` with `rewrite` which matches older versions of OpenLane but is more unstable. | `False` |  |\n| `SYNTH_DIRECT_WIRE_BUFFERING`{#var-yosys-synthesis-synth_direct_wire_buffering} | bool | Enables inserting buffer cells for directly connected wires. | `True` |  |\n| `SYNTH_SPLITNETS`{#var-yosys-synthesis-synth_splitnets} | bool | Splits multi-bit nets into single-bit nets. Easier to trace but may not be supported by all tools. | `True` |  |\n| `SYNTH_SIZING`{#var-yosys-synthesis-synth_sizing} | bool | Enables `abc` cell sizing (instead of buffering). | `False` |  |\n| `SYNTH_NO_FLAT`{#var-yosys-synthesis-synth_no_flat} | bool | A flag that disables flattening the hierarchy during synthesis, only flattening it after synthesis, mapping and optimizations. | `False` |  |\n| `SYNTH_SHARE_RESOURCES`{#var-yosys-synthesis-synth_share_resources} | bool | A flag that enables yosys to reduce the number of cells by determining shareable resources and merging them. | `True` |  |\n| `SYNTH_ADDER_TYPE`{#var-yosys-synthesis-synth_adder_type} | 'YOSYS'｜<br />'FA'｜<br />'RCA'｜<br />'CSA' | Adder type to which the $add and $sub operators are mapped to.  Possible values are `YOSYS/FA/RCA/CSA`; where `YOSYS` refers to using Yosys internal adder definition, `FA` refers to full-adder structure, `RCA` refers to ripple carry adder structure, and `CSA` refers to carry select adder. | `YOSYS` |  |\n| `SYNTH_EXTRA_MAPPING_FILE`{#var-yosys-synthesis-synth_extra_mapping_file} | Path? | Points to an extra techmap file for yosys that runs right after yosys `synth` before generic techmap. | `None` |  |\n| `SYNTH_PARAMETERS`{#var-yosys-synthesis-synth_parameters} | List[str]? | Key-value pairs to be `chparam`ed in Yosys, in the format `key1=value1`. | `None` |  |\n| `SYNTH_ELABORATE_ONLY`{#var-yosys-synthesis-synth_elaborate_only} | bool | \"Elaborate\" the design only without attempting any logic mapping. Useful when dealing with structural Verilog netlists. | `False` |  |\n| `SYNTH_ELABORATE_FLATTEN`{#var-yosys-synthesis-synth_elaborate_flatten} | bool | If `SYNTH_ELABORATE_ONLY` is specified, this variable controls whether or not the top level should be flattened. | `True` |  |\n| `VERILOG_FILES`{#var-yosys-synthesis-verilog_files} | List[Path] | The paths of the design's Verilog files. | `None` |  |\n| `VERILOG_DEFINES`{#var-yosys-synthesis-verilog_defines} | List[str]? | Preprocessor defines for input Verilog files. | `None` |  |\n| `VERILOG_POWER_DEFINE`{#var-yosys-synthesis-verilog_power_define} | str | Specifies the name of the define used to guard power and ground connections in the input RTL. | `USE_POWER_PINS` |  |\n| `VERILOG_INCLUDE_DIRS`{#var-yosys-synthesis-verilog_include_dirs} | List[str]? | Specifies the Verilog `include` directories. | `None` |  |\n| `USE_SYNLIG`{#var-yosys-synthesis-use_synlig} | bool | Use the Synlig plugin to process files, which has better SystemVerilog parsing capabilities but may not be compatible with all Yosys commands and attributes. | `False` |  |\n| `SYNLIG_DEFER`{#var-yosys-synthesis-synlig_defer} | bool | Uses -defer flag when reading files the Synlig plugin, which may improve performance by reading each file separately, but is experimental. | `False` |  |\n\n"
          },
          "metadata": {}
        }
      ],
      "source": [
        "Synthesis = Step.factory.get(\"Yosys.Synthesis\")\n",
        "\n",
        "Synthesis.display_help()"
      ]
    },
    {
      "cell_type": "markdown",
      "metadata": {
        "id": "UGFHmXEnZoTv"
      },
      "source": [
        "* Then run it. Note you can pass step-specific configs using Python keyword\n",
        "  arguments."
      ]
    },
    {
      "cell_type": "markdown",
      "metadata": {
        "id": "6EFUOvHhZoTv"
      },
      "source": [
        "### Synthesis\n",
        "\n",
        "We need to start by converting our high-level Verilog to one that just shows\n",
        "the connections between small silicon patterns called \"standard cells\" in process\n",
        "called Synthesis. We can do this by passing the Verilog files as a configuration\n",
        "variable to `Yosys.Synthesis` as follows, then running it.\n",
        "\n",
        "As this is the first step, we need to create an empty state and pass it to it."
      ]
    },
    {
      "cell_type": "code",
      "execution_count": 19,
      "metadata": {
        "scrolled": true,
        "colab": {
          "base_uri": "https://localhost:8080/",
          "height": 373
        },
        "id": "vpXvXGVuZoTv",
        "outputId": "6336f8c4-17ce-44b5-ff2f-67c35395de26"
      },
      "outputs": [
        {
          "output_type": "error",
          "ename": "InvalidConfig",
          "evalue": "The following errors were encountered: \n\t* Path provided for variable 'VERILOG_FILES[0]' is invalid: './sparse_cnn_accelerator_single.v' does not exist",
          "traceback": [
            "\u001b[0;31m---------------------------------------------------------------------------\u001b[0m",
            "\u001b[0;31mInvalidConfig\u001b[0m                             Traceback (most recent call last)",
            "\u001b[0;32m/tmp/ipython-input-440536564.py\u001b[0m in \u001b[0;36m<cell line: 0>\u001b[0;34m()\u001b[0m\n\u001b[1;32m      1\u001b[0m \u001b[0;32mfrom\u001b[0m \u001b[0mopenlane\u001b[0m\u001b[0;34m.\u001b[0m\u001b[0mstate\u001b[0m \u001b[0;32mimport\u001b[0m \u001b[0mState\u001b[0m\u001b[0;34m\u001b[0m\u001b[0;34m\u001b[0m\u001b[0m\n\u001b[1;32m      2\u001b[0m \u001b[0;34m\u001b[0m\u001b[0m\n\u001b[0;32m----> 3\u001b[0;31m synthesis = Synthesis(\n\u001b[0m\u001b[1;32m      4\u001b[0m     \u001b[0mVERILOG_FILES\u001b[0m\u001b[0;34m=\u001b[0m\u001b[0;34m[\u001b[0m\u001b[0;34m\"./sparse_cnn_accelerator_single.v\"\u001b[0m\u001b[0;34m]\u001b[0m\u001b[0;34m,\u001b[0m\u001b[0;34m\u001b[0m\u001b[0;34m\u001b[0m\u001b[0m\n\u001b[1;32m      5\u001b[0m     \u001b[0mstate_in\u001b[0m\u001b[0;34m=\u001b[0m\u001b[0mState\u001b[0m\u001b[0;34m(\u001b[0m\u001b[0;34m)\u001b[0m\u001b[0;34m,\u001b[0m\u001b[0;34m\u001b[0m\u001b[0;34m\u001b[0m\u001b[0m\n",
            "\u001b[0;32m/usr/local/lib/python3.11/dist-packages/openlane/steps/step.py\u001b[0m in \u001b[0;36m__init__\u001b[0;34m(self, config, state_in, id, name, long_name, flow, _config_quiet, _no_revalidate_conf, **kwargs)\u001b[0m\n\u001b[1;32m    521\u001b[0m             )\n\u001b[1;32m    522\u001b[0m         \u001b[0;32melse\u001b[0m\u001b[0;34m:\u001b[0m\u001b[0;34m\u001b[0m\u001b[0;34m\u001b[0m\u001b[0m\n\u001b[0;32m--> 523\u001b[0;31m             self.config = config.with_increment(\n\u001b[0m\u001b[1;32m    524\u001b[0m                 \u001b[0mself\u001b[0m\u001b[0;34m.\u001b[0m\u001b[0mget_all_config_variables\u001b[0m\u001b[0;34m(\u001b[0m\u001b[0;34m)\u001b[0m\u001b[0;34m,\u001b[0m\u001b[0;34m\u001b[0m\u001b[0;34m\u001b[0m\u001b[0m\n\u001b[1;32m    525\u001b[0m                 \u001b[0mkwargs\u001b[0m\u001b[0;34m,\u001b[0m\u001b[0;34m\u001b[0m\u001b[0;34m\u001b[0m\u001b[0m\n",
            "\u001b[0;32m/usr/local/lib/python3.11/dist-packages/openlane/config/config.py\u001b[0m in \u001b[0;36mwith_increment\u001b[0;34m(self, config_vars, other_inputs, config_quiet)\u001b[0m\n\u001b[1;32m    284\u001b[0m \u001b[0;34m\u001b[0m\u001b[0m\n\u001b[1;32m    285\u001b[0m         \u001b[0;32mif\u001b[0m \u001b[0mlen\u001b[0m\u001b[0;34m(\u001b[0m\u001b[0mdesign_errors\u001b[0m\u001b[0;34m)\u001b[0m \u001b[0;34m!=\u001b[0m \u001b[0;36m0\u001b[0m\u001b[0;34m:\u001b[0m\u001b[0;34m\u001b[0m\u001b[0;34m\u001b[0m\u001b[0m\n\u001b[0;32m--> 286\u001b[0;31m             raise InvalidConfig(\n\u001b[0m\u001b[1;32m    287\u001b[0m                 \u001b[0;34m\"incremental configuration\"\u001b[0m\u001b[0;34m,\u001b[0m \u001b[0mdesign_warnings\u001b[0m\u001b[0;34m,\u001b[0m \u001b[0mdesign_errors\u001b[0m\u001b[0;34m\u001b[0m\u001b[0;34m\u001b[0m\u001b[0m\n\u001b[1;32m    288\u001b[0m             )\n",
            "\u001b[0;31mInvalidConfig\u001b[0m: The following errors were encountered: \n\t* Path provided for variable 'VERILOG_FILES[0]' is invalid: './sparse_cnn_accelerator_single.v' does not exist"
          ]
        }
      ],
      "source": [
        "from openlane.state import State\n",
        "\n",
        "synthesis = Synthesis(\n",
        "    VERILOG_FILES=[\"./sparse_cnn_accelerator_single.v\"],\n",
        "    state_in=State(),\n",
        "    USE_SYNLIG=True, # Use the SystemVerilog frontend for Yosys\n",
        ")\n",
        "synthesis.start()"
      ]
    },
    {
      "cell_type": "code",
      "execution_count": null,
      "metadata": {
        "id": "VEP9tfNsZoTv"
      },
      "outputs": [],
      "source": [
        "display(synthesis)"
      ]
    },
    {
      "cell_type": "markdown",
      "metadata": {
        "id": "wY6V_ZNMZoTv"
      },
      "source": [
        "### Floorplanning\n",
        "\n",
        "Floorplanning does two things:\n",
        "\n",
        "* Determines the dimensions of the final chip.\n",
        "* Creates the \"cell placement grid\" which placed cells must be aligned to.\n",
        "    * Each cell in the grid is called a \"site.\" Cells can occupy multiple\n",
        "      sites, with the overwhelming majority of cells occupying multiple sites\n",
        "      by width, and some standard cell libraries supporting varying heights as well.\n",
        "\n",
        "> Don't forget- you may call `display_help()` on any Step class to get a full\n",
        "> list of configuration variables.\n",
        ""
      ]
    },
    {
      "cell_type": "code",
      "execution_count": null,
      "metadata": {
        "id": "jYFqSWl6ZoTw"
      },
      "outputs": [],
      "source": [
        "Floorplan = Step.factory.get(\"OpenROAD.Floorplan\")\n",
        "\n",
        "floorplan = Floorplan(state_in=synthesis.state_out)\n",
        "floorplan.start()"
      ]
    },
    {
      "cell_type": "code",
      "execution_count": null,
      "metadata": {
        "id": "W5yiTn5MZoTw"
      },
      "outputs": [],
      "source": [
        "display(floorplan)"
      ]
    },
    {
      "cell_type": "markdown",
      "metadata": {
        "id": "odFbntnkZoTw"
      },
      "source": [
        "### Tap/Endcap Cell Insertion\n",
        "\n",
        "This places two kinds of cells on the floorplan:\n",
        "\n",
        "* End cap/boundary cells: Added at the beginning and end of each row. True to\n",
        "  their name, they \"cap off\" the core area of a design.\n",
        "* Tap cells: Placed in a polka dot-ish fashion across the rows. Tap cells\n",
        "  connect VDD to the nwell and the psubstrate to VSS, which the majority of cells\n",
        "  do not do themselves to save area- but if you go long enough without one such\n",
        "  connection you end up with the cell \"latching-up\"; i.e.; refusing to switch\n",
        "  back to LO from HI.\n",
        "\n",
        "  There is a maximum distance between tap cells enforced as part of every\n",
        "  foundry process."
      ]
    },
    {
      "cell_type": "code",
      "execution_count": null,
      "metadata": {
        "id": "9HBYf3kzZoTw"
      },
      "outputs": [],
      "source": [
        "TapEndcapInsertion = Step.factory.get(\"OpenROAD.TapEndcapInsertion\")\n",
        "\n",
        "tdi = TapEndcapInsertion(state_in=floorplan.state_out)\n",
        "tdi.start()"
      ]
    },
    {
      "cell_type": "code",
      "execution_count": null,
      "metadata": {
        "id": "PgxTJh6OZoTw"
      },
      "outputs": [],
      "source": [
        "display(tdi)"
      ]
    },
    {
      "cell_type": "markdown",
      "metadata": {
        "id": "aOkAsbpjZoTw"
      },
      "source": [
        "### I/O Placement\n",
        "\n",
        "This places metal pins at the edges of the design corresponding to the top level\n",
        "inputs and outputs for your design. These pins act as the interface with other\n",
        "designs when you integrate it with other designs."
      ]
    },
    {
      "cell_type": "code",
      "execution_count": null,
      "metadata": {
        "scrolled": true,
        "id": "U6HpSeKhZoTx"
      },
      "outputs": [],
      "source": [
        "IOPlacement = Step.factory.get(\"OpenROAD.IOPlacement\")\n",
        "\n",
        "ioplace = IOPlacement(state_in=tdi.state_out)\n",
        "ioplace.start()"
      ]
    },
    {
      "cell_type": "code",
      "execution_count": null,
      "metadata": {
        "id": "m3eI0itzZoTx"
      },
      "outputs": [],
      "source": [
        "display(ioplace)"
      ]
    },
    {
      "cell_type": "markdown",
      "metadata": {
        "id": "UZLPVnT3ZoTx"
      },
      "source": [
        "### Generating the Power Distribution Network (PDN)\n",
        "\n",
        "This creates the power distribution network for your design, which is essentially\n",
        "a plaid pattern of horizontal and vertical \"straps\" across the design that is\n",
        "then connected to the rails' VDD and VSS (via the tap cells.)\n",
        "\n",
        "You can find an explanation of how the power distribution network works at this\n",
        "link: https://openlane2.readthedocs.io/en/latest/usage/hardening_macros.html#pdn-generation\n",
        "\n",
        "While we typically don't need to mess with the PDN too much, the SPM is a small\n",
        "design, so we're going to need to make the plaid pattern formed by the PDN a bit\n",
        "smaller."
      ]
    },
    {
      "cell_type": "code",
      "execution_count": null,
      "metadata": {
        "scrolled": true,
        "id": "_rhP2vhuZoTx"
      },
      "outputs": [],
      "source": [
        "GeneratePDN = Step.factory.get(\"OpenROAD.GeneratePDN\")\n",
        "\n",
        "pdn = GeneratePDN(\n",
        "    state_in=ioplace.state_out,\n",
        "    FP_PDN_VWIDTH=2,\n",
        "    FP_PDN_HWIDTH=2,\n",
        "    FP_PDN_VPITCH=30,\n",
        "    FP_PDN_HPITCH=30,\n",
        ")\n",
        "pdn.start()"
      ]
    },
    {
      "cell_type": "code",
      "execution_count": null,
      "metadata": {
        "id": "VScrz_IoZoTx"
      },
      "outputs": [],
      "source": [
        "display(pdn)"
      ]
    },
    {
      "cell_type": "markdown",
      "metadata": {
        "id": "g1-278TDZoTx"
      },
      "source": [
        "### Global Placement\n",
        "\n",
        "Global Placement is deciding on a fuzzy, non-final location for each of the cells,\n",
        "with the aim of minimizing the distance between cells that are connected\n",
        "together (more specifically, the total length of the not-yet-created wires that\n",
        "will connect them).\n",
        "\n",
        "As you will see in the `.display()` in the second cell below, the placement is\n",
        "considered \"illegal\", i.e., not properly aligned with the cell placement grid.\n",
        "This is addressed by \"Detailed Placement\", also referred to as \"placement\n",
        "legalization\", which is the next step."
      ]
    },
    {
      "cell_type": "code",
      "execution_count": null,
      "metadata": {
        "id": "PPy-K-E_ZoTx"
      },
      "outputs": [],
      "source": [
        "GlobalPlacement = Step.factory.get(\"OpenROAD.GlobalPlacement\")\n",
        "\n",
        "gpl = GlobalPlacement(state_in=pdn.state_out)\n",
        "gpl.start()"
      ]
    },
    {
      "cell_type": "code",
      "execution_count": null,
      "metadata": {
        "id": "cP2aKgNbZoTy"
      },
      "outputs": [],
      "source": [
        "display(gpl)"
      ]
    },
    {
      "cell_type": "markdown",
      "metadata": {
        "id": "qJ_2Q3VeZoTy"
      },
      "source": [
        "### Detailed Placement\n",
        "\n",
        "This aligns the fuzzy placement from before with the grid, \"legalizing\" it."
      ]
    },
    {
      "cell_type": "code",
      "execution_count": null,
      "metadata": {
        "id": "rlIfZqzbZoTy"
      },
      "outputs": [],
      "source": [
        "DetailedPlacement = Step.factory.get(\"OpenROAD.DetailedPlacement\")\n",
        "\n",
        "dpl = DetailedPlacement(state_in=gpl.state_out)\n",
        "dpl.start()"
      ]
    },
    {
      "cell_type": "code",
      "execution_count": null,
      "metadata": {
        "id": "nUT8ym2WZoTy"
      },
      "outputs": [],
      "source": [
        "display(dpl)"
      ]
    },
    {
      "cell_type": "markdown",
      "metadata": {
        "id": "qGh8GrL9ZoTy"
      },
      "source": [
        "### Clock Tree Synthesis (CTS)\n",
        "\n",
        "With the cells now having a final placement, we can go ahead and create what\n",
        "is known as the clock tree, i.e., the hierarchical set of buffers used\n",
        "for clock signal to minimize what is known as \"clock skew\"- variable delay\n",
        "of the clock cycle from register to register because of factors such as metal\n",
        "wire length, clock load (number of gates connected to the same clock buffer,)\n",
        "et cetera.\n",
        "\n",
        "The CTS step creates the cells and places the between the gaps in the detailed\n",
        "placement above."
      ]
    },
    {
      "cell_type": "code",
      "execution_count": null,
      "metadata": {
        "id": "jSIXh3JYZoTy"
      },
      "outputs": [],
      "source": [
        "CTS = Step.factory.get(\"OpenROAD.CTS\")\n",
        "\n",
        "cts = CTS(state_in=dpl.state_out)\n",
        "cts.start()"
      ]
    },
    {
      "cell_type": "code",
      "execution_count": null,
      "metadata": {
        "id": "FYC2EV8uZoTy"
      },
      "outputs": [],
      "source": [
        "display(cts)"
      ]
    },
    {
      "cell_type": "markdown",
      "metadata": {
        "id": "xj6jRUsTZoTz"
      },
      "source": [
        "### Global Routing\n",
        "\n",
        "Global routing \"plans\" the routes the wires between two gates (or gates and\n",
        "I/O pins/the PDN) will take. The results of global routing (which are called\n",
        "\"routing guides\") are stored in internal data structures and have no effect on\n",
        "the actual design, so there is no `display()` statement."
      ]
    },
    {
      "cell_type": "code",
      "execution_count": null,
      "metadata": {
        "id": "01D5ryuzZoTz"
      },
      "outputs": [],
      "source": [
        "GlobalRouting = Step.factory.get(\"OpenROAD.GlobalRouting\")\n",
        "\n",
        "grt = GlobalRouting(state_in=cts.state_out)\n",
        "grt.start()"
      ]
    },
    {
      "cell_type": "markdown",
      "metadata": {
        "id": "UzgPInTdZoT4"
      },
      "source": [
        "### Detailed Routing\n",
        "\n",
        "Detailed routing uses the guides from Global Routing to actually create wires\n",
        "on the metal layers and connect the gates, making the connections finally physical.\n",
        "\n",
        "This is typically the longest step in the flow."
      ]
    },
    {
      "cell_type": "code",
      "execution_count": null,
      "metadata": {
        "id": "XyVKFZ6hZoT4"
      },
      "outputs": [],
      "source": [
        "DetailedRouting = Step.factory.get(\"OpenROAD.DetailedRouting\")\n",
        "\n",
        "drt = DetailedRouting(state_in=grt.state_out)\n",
        "drt.start()"
      ]
    },
    {
      "cell_type": "code",
      "execution_count": null,
      "metadata": {
        "id": "6d1djNlhZoT4"
      },
      "outputs": [],
      "source": [
        "display(drt)"
      ]
    },
    {
      "cell_type": "markdown",
      "metadata": {
        "id": "_upcm-_WZoT4"
      },
      "source": [
        "### Fill Insertion\n",
        "\n",
        "Finally, as we're done placing all the essential cells, the only thing left to\n",
        "do is fill in the gaps.\n",
        "\n",
        "We prioritize the use of decap (decoupling capacitor) cells, which\n",
        "further supports the power distribution network, but when there aren't any\n",
        "small enough cells, we just use regular fill cells."
      ]
    },
    {
      "cell_type": "code",
      "execution_count": null,
      "metadata": {
        "id": "hriESCJnZoT4"
      },
      "outputs": [],
      "source": [
        "FillInsertion = Step.factory.get(\"OpenROAD.FillInsertion\")\n",
        "\n",
        "fill = FillInsertion(state_in=drt.state_out)\n",
        "fill.start()"
      ]
    },
    {
      "cell_type": "code",
      "execution_count": null,
      "metadata": {
        "id": "3QRcOBCAZoT4"
      },
      "outputs": [],
      "source": [
        "display(fill)"
      ]
    },
    {
      "cell_type": "markdown",
      "metadata": {
        "id": "qbEbUvY7ZoT5"
      },
      "source": [
        "### Parasitics Extraction a.k.a. Resistance/Capacitance Extraction (RCX)\n",
        "\n",
        "This step does not alter the design- rather, it computes the\n",
        "[Parasitic elements](https://en.wikipedia.org/wiki/Parasitic_element_(electrical_networks))\n",
        "of the circuit, which have an effect of timing, as we prepare to do the final\n",
        "timing analysis.\n",
        "\n",
        "The parasitic elements are saved in the **Standard Parasitics Exchange Format**,\n",
        "or SPEF. OpenLane creates a SPEF file for each interconnect corner as described in\n",
        "the [Corners and STA](https://openlane2.readthedocs.io/en/latest/usage/corners_and_sta.html)\n",
        "section of the documentation."
      ]
    },
    {
      "cell_type": "code",
      "execution_count": null,
      "metadata": {
        "id": "_iYhahYPZoT5"
      },
      "outputs": [],
      "source": [
        "RCX = Step.factory.get(\"OpenROAD.RCX\")\n",
        "\n",
        "rcx = RCX(state_in=fill.state_out)\n",
        "rcx.start()"
      ]
    },
    {
      "cell_type": "markdown",
      "metadata": {
        "id": "0q6ckenmZoT5"
      },
      "source": [
        "### Static Timing Analysis (Post-PnR)\n",
        "\n",
        "STA is a process that verifies that a chip meets certain constraints on clock\n",
        "and data timings to run at its rated clock speed. See [Corners and STA](https://openlane2.readthedocs.io/en/latest/usage/corners_and_sta.html)\n",
        "in the documentation for more info.\n",
        "\n",
        "---\n",
        "\n",
        "This step generates two kinds of files:\n",
        "* `.lib`: Liberty™-compatible Library files. Can be used to do static timing\n",
        "  analysis when creating a design with this design as a sub-macro.\n",
        "* `.sdf`: Standard Delay Format. Can be used with certain simulation software\n",
        "  to do *dynamic* timing analysis.\n",
        "\n",
        "Unfortunately, the `.lib` files coming out of OpenLane right now are not super\n",
        "reliable for timing purposes and are only provided for completeness.\n",
        "When using OpenLane-created macros withing other designs, it is best to use the\n",
        "macro's final netlist and extracted parasitics instead."
      ]
    },
    {
      "cell_type": "code",
      "execution_count": null,
      "metadata": {
        "id": "TrXYxARUZoT5"
      },
      "outputs": [],
      "source": [
        "STAPostPNR = Step.factory.get(\"OpenROAD.STAPostPNR\")\n",
        "\n",
        "sta_post_pnr = STAPostPNR(state_in=rcx.state_out)\n",
        "sta_post_pnr.start()"
      ]
    },
    {
      "cell_type": "markdown",
      "metadata": {
        "id": "sQ7dqnLjZoT5"
      },
      "source": [
        "### Stream-out\n",
        "\n",
        "Stream-out is the process of converting the designs from the abstract formats\n",
        "using during floorplanning, placement and routing into a concrete format called\n",
        "GDSII (lit. Graphic Design System 2), which is the final file that is then sent\n",
        "for fabrication."
      ]
    },
    {
      "cell_type": "code",
      "execution_count": null,
      "metadata": {
        "id": "DQM4vz-OZoT5"
      },
      "outputs": [],
      "source": [
        "StreamOut = Step.factory.get(\"KLayout.StreamOut\")\n",
        "\n",
        "gds = StreamOut(state_in=sta_post_pnr.state_out)\n",
        "gds.start()"
      ]
    },
    {
      "cell_type": "code",
      "execution_count": null,
      "metadata": {
        "id": "PH6eUH72ZoT6"
      },
      "outputs": [],
      "source": [
        "display(gds)"
      ]
    },
    {
      "cell_type": "markdown",
      "metadata": {
        "id": "jQY3diNbZoT6"
      },
      "source": [
        "### Design Rule Checks (DRC)\n",
        "\n",
        "DRC determines that the final layout does not violate any of the rules set by\n",
        "the foundry to ensure the design is actually manufacturable- for example,\n",
        "not enough space between two wires, *too much* space between tap cells, and so\n",
        "on.\n",
        "\n",
        "A design not passing DRC will typically be rejected by the foundry, who\n",
        "also run DRC on their side."
      ]
    },
    {
      "cell_type": "code",
      "execution_count": null,
      "metadata": {
        "id": "ZKhHa021ZoT6"
      },
      "outputs": [],
      "source": [
        "DRC = Step.factory.get(\"Magic.DRC\")\n",
        "\n",
        "drc = DRC(state_in=gds.state_out)\n",
        "drc.start()"
      ]
    },
    {
      "cell_type": "markdown",
      "metadata": {
        "id": "oGmjNjDkZoT6"
      },
      "source": [
        "### SPICE Extraction for Layout vs. Schematic Check\n",
        "\n",
        "This step tries to reconstruct a SPICE netlist from the GDSII file, so it can\n",
        "later be used for the **Layout vs. Schematic** (LVS) check."
      ]
    },
    {
      "cell_type": "code",
      "execution_count": null,
      "metadata": {
        "id": "KXtu76k8ZoT6"
      },
      "outputs": [],
      "source": [
        "SpiceExtraction = Step.factory.get(\"Magic.SpiceExtraction\")\n",
        "\n",
        "spx = SpiceExtraction(state_in=drc.state_out)\n",
        "spx.start()"
      ]
    },
    {
      "cell_type": "markdown",
      "metadata": {
        "id": "0vMAePyKZoT6"
      },
      "source": [
        "### Layout vs. Schematic (LVS)\n",
        "\n",
        "A comparison between the final Verilog netlist (from PnR) and the final\n",
        "SPICE netlist (extracted.)\n",
        "\n",
        "This check effectively compares the physically implemented circuit to the final\n",
        "Verilog netlist output by OpenROAD.\n",
        "\n",
        "The idea is, if there are any disconnects, shorts or other mismatches in the\n",
        "physical implementation that do not exist in the logical view of the design,\n",
        "they would be caught at this step.\n",
        "\n",
        "Common issues that result in LVS violations include:\n",
        "* Lack of fill cells or tap cells in the design\n",
        "* Two unrelated signals to be shorted, or a wire to be disconnected (most\n",
        "  commonly seen with misconfigured PDN)\n",
        "\n",
        "Chips with LVS errors are typically dead on arrival."
      ]
    },
    {
      "cell_type": "code",
      "execution_count": null,
      "metadata": {
        "id": "Ni-_MTYZZoT7"
      },
      "outputs": [],
      "source": [
        "LVS = Step.factory.get(\"Netgen.LVS\")\n",
        "\n",
        "lvs = LVS(state_in=spx.state_out)\n",
        "lvs.start()"
      ]
    }
  ],
  "metadata": {
    "kernelspec": {
      "display_name": "Python 3 (ipykernel)",
      "language": "python",
      "name": "python3"
    },
    "language_info": {
      "codemirror_mode": {
        "name": "ipython",
        "version": 3
      },
      "file_extension": ".py",
      "mimetype": "text/x-python",
      "name": "python",
      "nbconvert_exporter": "python",
      "pygments_lexer": "ipython3",
      "version": "3.11.6"
    },
    "vscode": {
      "interpreter": {
        "hash": "259a389b4057ccde35404af821e33afdf5883d9f2d987c370b23bfef9f2c3eb5"
      }
    },
    "colab": {
      "provenance": [],
      "include_colab_link": true
    },
    "widgets": {
      "application/vnd.jupyter.widget-state+json": {
        "ab3537e9f74641df8a18a1328563b658": {
          "model_module": "@jupyter-widgets/output",
          "model_name": "OutputModel",
          "model_module_version": "1.0.0",
          "state": {
            "_dom_classes": [],
            "_model_module": "@jupyter-widgets/output",
            "_model_module_version": "1.0.0",
            "_model_name": "OutputModel",
            "_view_count": null,
            "_view_module": "@jupyter-widgets/output",
            "_view_module_version": "1.0.0",
            "_view_name": "OutputView",
            "layout": "IPY_MODEL_bca403fe2fde4cdeaed08b76c278edf4",
            "msg_id": "",
            "outputs": [
              {
                "output_type": "display_data",
                "data": {
                  "text/plain": "Downloading common.tar.zst… \u001b[38;5;237m━━━━━━━━━━━━━━━━━━━━━━━━━━━━━━━━━━━━━━━━\u001b[0m \u001b[35m  0%\u001b[0m \u001b[36m-:--:--\u001b[0m\n",
                  "text/html": "<pre style=\"white-space:pre;overflow-x:auto;line-height:normal;font-family:Menlo,'DejaVu Sans Mono',consolas,'Courier New',monospace\">Downloading common.tar.zst… <span style=\"color: #3a3a3a; text-decoration-color: #3a3a3a\">━━━━━━━━━━━━━━━━━━━━━━━━━━━━━━━━━━━━━━━━</span> <span style=\"color: #800080; text-decoration-color: #800080\">  0%</span> <span style=\"color: #008080; text-decoration-color: #008080\">-:--:--</span>\n</pre>\n"
                },
                "metadata": {}
              }
            ]
          }
        },
        "bca403fe2fde4cdeaed08b76c278edf4": {
          "model_module": "@jupyter-widgets/base",
          "model_name": "LayoutModel",
          "model_module_version": "1.2.0",
          "state": {
            "_model_module": "@jupyter-widgets/base",
            "_model_module_version": "1.2.0",
            "_model_name": "LayoutModel",
            "_view_count": null,
            "_view_module": "@jupyter-widgets/base",
            "_view_module_version": "1.2.0",
            "_view_name": "LayoutView",
            "align_content": null,
            "align_items": null,
            "align_self": null,
            "border": null,
            "bottom": null,
            "display": null,
            "flex": null,
            "flex_flow": null,
            "grid_area": null,
            "grid_auto_columns": null,
            "grid_auto_flow": null,
            "grid_auto_rows": null,
            "grid_column": null,
            "grid_gap": null,
            "grid_row": null,
            "grid_template_areas": null,
            "grid_template_columns": null,
            "grid_template_rows": null,
            "height": null,
            "justify_content": null,
            "justify_items": null,
            "left": null,
            "margin": null,
            "max_height": null,
            "max_width": null,
            "min_height": null,
            "min_width": null,
            "object_fit": null,
            "object_position": null,
            "order": null,
            "overflow": null,
            "overflow_x": null,
            "overflow_y": null,
            "padding": null,
            "right": null,
            "top": null,
            "visibility": null,
            "width": null
          }
        },
        "13cae59be04247a8aef8f0659e15083d": {
          "model_module": "@jupyter-widgets/output",
          "model_name": "OutputModel",
          "model_module_version": "1.0.0",
          "state": {
            "_dom_classes": [],
            "_model_module": "@jupyter-widgets/output",
            "_model_module_version": "1.0.0",
            "_model_name": "OutputModel",
            "_view_count": null,
            "_view_module": "@jupyter-widgets/output",
            "_view_module_version": "1.0.0",
            "_view_name": "OutputView",
            "layout": "IPY_MODEL_c77375f730e64dfbb3898a2abec8a8f1",
            "msg_id": "",
            "outputs": [
              {
                "output_type": "display_data",
                "data": {
                  "text/plain": "\u001b[32m⠹\u001b[0m Unpacking common.tar.zst…\n",
                  "text/html": "<pre style=\"white-space:pre;overflow-x:auto;line-height:normal;font-family:Menlo,'DejaVu Sans Mono',consolas,'Courier New',monospace\"><span style=\"color: #008000; text-decoration-color: #008000\">⠹</span> Unpacking common.tar.zst…\n</pre>\n"
                },
                "metadata": {}
              }
            ]
          }
        },
        "c77375f730e64dfbb3898a2abec8a8f1": {
          "model_module": "@jupyter-widgets/base",
          "model_name": "LayoutModel",
          "model_module_version": "1.2.0",
          "state": {
            "_model_module": "@jupyter-widgets/base",
            "_model_module_version": "1.2.0",
            "_model_name": "LayoutModel",
            "_view_count": null,
            "_view_module": "@jupyter-widgets/base",
            "_view_module_version": "1.2.0",
            "_view_name": "LayoutView",
            "align_content": null,
            "align_items": null,
            "align_self": null,
            "border": null,
            "bottom": null,
            "display": null,
            "flex": null,
            "flex_flow": null,
            "grid_area": null,
            "grid_auto_columns": null,
            "grid_auto_flow": null,
            "grid_auto_rows": null,
            "grid_column": null,
            "grid_gap": null,
            "grid_row": null,
            "grid_template_areas": null,
            "grid_template_columns": null,
            "grid_template_rows": null,
            "height": null,
            "justify_content": null,
            "justify_items": null,
            "left": null,
            "margin": null,
            "max_height": null,
            "max_width": null,
            "min_height": null,
            "min_width": null,
            "object_fit": null,
            "object_position": null,
            "order": null,
            "overflow": null,
            "overflow_x": null,
            "overflow_y": null,
            "padding": null,
            "right": null,
            "top": null,
            "visibility": null,
            "width": null
          }
        },
        "ca637dd315cd4a1cb76ec22d132afae9": {
          "model_module": "@jupyter-widgets/output",
          "model_name": "OutputModel",
          "model_module_version": "1.0.0",
          "state": {
            "_dom_classes": [],
            "_model_module": "@jupyter-widgets/output",
            "_model_module_version": "1.0.0",
            "_model_name": "OutputModel",
            "_view_count": null,
            "_view_module": "@jupyter-widgets/output",
            "_view_module_version": "1.0.0",
            "_view_name": "OutputView",
            "layout": "IPY_MODEL_a2290697b6e84b4a9a80b748336fa217",
            "msg_id": "",
            "outputs": [
              {
                "output_type": "display_data",
                "data": {
                  "text/plain": "Downloading sky130_fd_io.tar.zst… \u001b[38;2;249;38;114m━━━━━━━━━━━━━━━━━━━━━━━━━━━━━━━━━━━━━━━\u001b[0m\u001b[38;5;237m╺\u001b[0m \u001b[35m 98%\u001b[0m \u001b[36m0:00:01\u001b[0m\n",
                  "text/html": "<pre style=\"white-space:pre;overflow-x:auto;line-height:normal;font-family:Menlo,'DejaVu Sans Mono',consolas,'Courier New',monospace\">Downloading sky130_fd_io.tar.zst… <span style=\"color: #f92672; text-decoration-color: #f92672\">━━━━━━━━━━━━━━━━━━━━━━━━━━━━━━━━━━━━━━━</span><span style=\"color: #3a3a3a; text-decoration-color: #3a3a3a\">╺</span> <span style=\"color: #800080; text-decoration-color: #800080\"> 98%</span> <span style=\"color: #008080; text-decoration-color: #008080\">0:00:01</span>\n</pre>\n"
                },
                "metadata": {}
              }
            ]
          }
        },
        "a2290697b6e84b4a9a80b748336fa217": {
          "model_module": "@jupyter-widgets/base",
          "model_name": "LayoutModel",
          "model_module_version": "1.2.0",
          "state": {
            "_model_module": "@jupyter-widgets/base",
            "_model_module_version": "1.2.0",
            "_model_name": "LayoutModel",
            "_view_count": null,
            "_view_module": "@jupyter-widgets/base",
            "_view_module_version": "1.2.0",
            "_view_name": "LayoutView",
            "align_content": null,
            "align_items": null,
            "align_self": null,
            "border": null,
            "bottom": null,
            "display": null,
            "flex": null,
            "flex_flow": null,
            "grid_area": null,
            "grid_auto_columns": null,
            "grid_auto_flow": null,
            "grid_auto_rows": null,
            "grid_column": null,
            "grid_gap": null,
            "grid_row": null,
            "grid_template_areas": null,
            "grid_template_columns": null,
            "grid_template_rows": null,
            "height": null,
            "justify_content": null,
            "justify_items": null,
            "left": null,
            "margin": null,
            "max_height": null,
            "max_width": null,
            "min_height": null,
            "min_width": null,
            "object_fit": null,
            "object_position": null,
            "order": null,
            "overflow": null,
            "overflow_x": null,
            "overflow_y": null,
            "padding": null,
            "right": null,
            "top": null,
            "visibility": null,
            "width": null
          }
        },
        "a53c8c11dfd34edab993b888bfd43e04": {
          "model_module": "@jupyter-widgets/output",
          "model_name": "OutputModel",
          "model_module_version": "1.0.0",
          "state": {
            "_dom_classes": [],
            "_model_module": "@jupyter-widgets/output",
            "_model_module_version": "1.0.0",
            "_model_name": "OutputModel",
            "_view_count": null,
            "_view_module": "@jupyter-widgets/output",
            "_view_module_version": "1.0.0",
            "_view_name": "OutputView",
            "layout": "IPY_MODEL_0653a1a498124043a3974daa66c3ee69",
            "msg_id": "",
            "outputs": [
              {
                "output_type": "display_data",
                "data": {
                  "text/plain": "\u001b[32m⠼\u001b[0m Unpacking sky130_fd_io.tar.zst…\n",
                  "text/html": "<pre style=\"white-space:pre;overflow-x:auto;line-height:normal;font-family:Menlo,'DejaVu Sans Mono',consolas,'Courier New',monospace\"><span style=\"color: #008000; text-decoration-color: #008000\">⠼</span> Unpacking sky130_fd_io.tar.zst…\n</pre>\n"
                },
                "metadata": {}
              }
            ]
          }
        },
        "0653a1a498124043a3974daa66c3ee69": {
          "model_module": "@jupyter-widgets/base",
          "model_name": "LayoutModel",
          "model_module_version": "1.2.0",
          "state": {
            "_model_module": "@jupyter-widgets/base",
            "_model_module_version": "1.2.0",
            "_model_name": "LayoutModel",
            "_view_count": null,
            "_view_module": "@jupyter-widgets/base",
            "_view_module_version": "1.2.0",
            "_view_name": "LayoutView",
            "align_content": null,
            "align_items": null,
            "align_self": null,
            "border": null,
            "bottom": null,
            "display": null,
            "flex": null,
            "flex_flow": null,
            "grid_area": null,
            "grid_auto_columns": null,
            "grid_auto_flow": null,
            "grid_auto_rows": null,
            "grid_column": null,
            "grid_gap": null,
            "grid_row": null,
            "grid_template_areas": null,
            "grid_template_columns": null,
            "grid_template_rows": null,
            "height": null,
            "justify_content": null,
            "justify_items": null,
            "left": null,
            "margin": null,
            "max_height": null,
            "max_width": null,
            "min_height": null,
            "min_width": null,
            "object_fit": null,
            "object_position": null,
            "order": null,
            "overflow": null,
            "overflow_x": null,
            "overflow_y": null,
            "padding": null,
            "right": null,
            "top": null,
            "visibility": null,
            "width": null
          }
        },
        "6940cc34e3314069b43d39e76bf8d9ec": {
          "model_module": "@jupyter-widgets/output",
          "model_name": "OutputModel",
          "model_module_version": "1.0.0",
          "state": {
            "_dom_classes": [],
            "_model_module": "@jupyter-widgets/output",
            "_model_module_version": "1.0.0",
            "_model_name": "OutputModel",
            "_view_count": null,
            "_view_module": "@jupyter-widgets/output",
            "_view_module_version": "1.0.0",
            "_view_name": "OutputView",
            "layout": "IPY_MODEL_7d96ea178c6f439c92a1d0e3b6d1bd35",
            "msg_id": "",
            "outputs": [
              {
                "output_type": "display_data",
                "data": {
                  "text/plain": "Downloading sky130_fd_pr.tar.zst… \u001b[38;2;249;38;114m━━━━━━━━━━━━━━━━━━━━\u001b[0m\u001b[38;2;249;38;114m╸\u001b[0m\u001b[38;5;237m━━━━━━━━━━━━━━━━━━━\u001b[0m \u001b[35m 51%\u001b[0m \u001b[36m0:00:01\u001b[0m\n",
                  "text/html": "<pre style=\"white-space:pre;overflow-x:auto;line-height:normal;font-family:Menlo,'DejaVu Sans Mono',consolas,'Courier New',monospace\">Downloading sky130_fd_pr.tar.zst… <span style=\"color: #f92672; text-decoration-color: #f92672\">━━━━━━━━━━━━━━━━━━━━╸</span><span style=\"color: #3a3a3a; text-decoration-color: #3a3a3a\">━━━━━━━━━━━━━━━━━━━</span> <span style=\"color: #800080; text-decoration-color: #800080\"> 51%</span> <span style=\"color: #008080; text-decoration-color: #008080\">0:00:01</span>\n</pre>\n"
                },
                "metadata": {}
              }
            ]
          }
        },
        "7d96ea178c6f439c92a1d0e3b6d1bd35": {
          "model_module": "@jupyter-widgets/base",
          "model_name": "LayoutModel",
          "model_module_version": "1.2.0",
          "state": {
            "_model_module": "@jupyter-widgets/base",
            "_model_module_version": "1.2.0",
            "_model_name": "LayoutModel",
            "_view_count": null,
            "_view_module": "@jupyter-widgets/base",
            "_view_module_version": "1.2.0",
            "_view_name": "LayoutView",
            "align_content": null,
            "align_items": null,
            "align_self": null,
            "border": null,
            "bottom": null,
            "display": null,
            "flex": null,
            "flex_flow": null,
            "grid_area": null,
            "grid_auto_columns": null,
            "grid_auto_flow": null,
            "grid_auto_rows": null,
            "grid_column": null,
            "grid_gap": null,
            "grid_row": null,
            "grid_template_areas": null,
            "grid_template_columns": null,
            "grid_template_rows": null,
            "height": null,
            "justify_content": null,
            "justify_items": null,
            "left": null,
            "margin": null,
            "max_height": null,
            "max_width": null,
            "min_height": null,
            "min_width": null,
            "object_fit": null,
            "object_position": null,
            "order": null,
            "overflow": null,
            "overflow_x": null,
            "overflow_y": null,
            "padding": null,
            "right": null,
            "top": null,
            "visibility": null,
            "width": null
          }
        },
        "0647ceb76c764493a78d9d1771fd0866": {
          "model_module": "@jupyter-widgets/output",
          "model_name": "OutputModel",
          "model_module_version": "1.0.0",
          "state": {
            "_dom_classes": [],
            "_model_module": "@jupyter-widgets/output",
            "_model_module_version": "1.0.0",
            "_model_name": "OutputModel",
            "_view_count": null,
            "_view_module": "@jupyter-widgets/output",
            "_view_module_version": "1.0.0",
            "_view_name": "OutputView",
            "layout": "IPY_MODEL_c57187ba64a1438ba7d5a4925022a39d",
            "msg_id": "",
            "outputs": [
              {
                "output_type": "display_data",
                "data": {
                  "text/plain": "\u001b[32m⠹\u001b[0m Unpacking sky130_fd_pr.tar.zst…\n",
                  "text/html": "<pre style=\"white-space:pre;overflow-x:auto;line-height:normal;font-family:Menlo,'DejaVu Sans Mono',consolas,'Courier New',monospace\"><span style=\"color: #008000; text-decoration-color: #008000\">⠹</span> Unpacking sky130_fd_pr.tar.zst…\n</pre>\n"
                },
                "metadata": {}
              }
            ]
          }
        },
        "c57187ba64a1438ba7d5a4925022a39d": {
          "model_module": "@jupyter-widgets/base",
          "model_name": "LayoutModel",
          "model_module_version": "1.2.0",
          "state": {
            "_model_module": "@jupyter-widgets/base",
            "_model_module_version": "1.2.0",
            "_model_name": "LayoutModel",
            "_view_count": null,
            "_view_module": "@jupyter-widgets/base",
            "_view_module_version": "1.2.0",
            "_view_name": "LayoutView",
            "align_content": null,
            "align_items": null,
            "align_self": null,
            "border": null,
            "bottom": null,
            "display": null,
            "flex": null,
            "flex_flow": null,
            "grid_area": null,
            "grid_auto_columns": null,
            "grid_auto_flow": null,
            "grid_auto_rows": null,
            "grid_column": null,
            "grid_gap": null,
            "grid_row": null,
            "grid_template_areas": null,
            "grid_template_columns": null,
            "grid_template_rows": null,
            "height": null,
            "justify_content": null,
            "justify_items": null,
            "left": null,
            "margin": null,
            "max_height": null,
            "max_width": null,
            "min_height": null,
            "min_width": null,
            "object_fit": null,
            "object_position": null,
            "order": null,
            "overflow": null,
            "overflow_x": null,
            "overflow_y": null,
            "padding": null,
            "right": null,
            "top": null,
            "visibility": null,
            "width": null
          }
        },
        "b4afbf6907674f86837daa525314d1f6": {
          "model_module": "@jupyter-widgets/output",
          "model_name": "OutputModel",
          "model_module_version": "1.0.0",
          "state": {
            "_dom_classes": [],
            "_model_module": "@jupyter-widgets/output",
            "_model_module_version": "1.0.0",
            "_model_name": "OutputModel",
            "_view_count": null,
            "_view_module": "@jupyter-widgets/output",
            "_view_module_version": "1.0.0",
            "_view_name": "OutputView",
            "layout": "IPY_MODEL_5ef66515da0344718bf278e0032ba23d",
            "msg_id": "",
            "outputs": [
              {
                "output_type": "display_data",
                "data": {
                  "text/plain": "Downloading sky130_fd_sc_hd.tar.zst… \u001b[38;2;249;38;114m━━━━━━━━━━━━━━━━━━━━━━━━━━━━━━━━━━━━━━\u001b[0m\u001b[38;5;237m╺\u001b[0m\u001b[38;5;237m━\u001b[0m \u001b[35m 96%\u001b[0m \u001b[36m0:00:01\u001b[0m\n",
                  "text/html": "<pre style=\"white-space:pre;overflow-x:auto;line-height:normal;font-family:Menlo,'DejaVu Sans Mono',consolas,'Courier New',monospace\">Downloading sky130_fd_sc_hd.tar.zst… <span style=\"color: #f92672; text-decoration-color: #f92672\">━━━━━━━━━━━━━━━━━━━━━━━━━━━━━━━━━━━━━━</span><span style=\"color: #3a3a3a; text-decoration-color: #3a3a3a\">╺━</span> <span style=\"color: #800080; text-decoration-color: #800080\"> 96%</span> <span style=\"color: #008080; text-decoration-color: #008080\">0:00:01</span>\n</pre>\n"
                },
                "metadata": {}
              }
            ]
          }
        },
        "5ef66515da0344718bf278e0032ba23d": {
          "model_module": "@jupyter-widgets/base",
          "model_name": "LayoutModel",
          "model_module_version": "1.2.0",
          "state": {
            "_model_module": "@jupyter-widgets/base",
            "_model_module_version": "1.2.0",
            "_model_name": "LayoutModel",
            "_view_count": null,
            "_view_module": "@jupyter-widgets/base",
            "_view_module_version": "1.2.0",
            "_view_name": "LayoutView",
            "align_content": null,
            "align_items": null,
            "align_self": null,
            "border": null,
            "bottom": null,
            "display": null,
            "flex": null,
            "flex_flow": null,
            "grid_area": null,
            "grid_auto_columns": null,
            "grid_auto_flow": null,
            "grid_auto_rows": null,
            "grid_column": null,
            "grid_gap": null,
            "grid_row": null,
            "grid_template_areas": null,
            "grid_template_columns": null,
            "grid_template_rows": null,
            "height": null,
            "justify_content": null,
            "justify_items": null,
            "left": null,
            "margin": null,
            "max_height": null,
            "max_width": null,
            "min_height": null,
            "min_width": null,
            "object_fit": null,
            "object_position": null,
            "order": null,
            "overflow": null,
            "overflow_x": null,
            "overflow_y": null,
            "padding": null,
            "right": null,
            "top": null,
            "visibility": null,
            "width": null
          }
        },
        "0fe537c99ab5486fbeacee338ce850a2": {
          "model_module": "@jupyter-widgets/output",
          "model_name": "OutputModel",
          "model_module_version": "1.0.0",
          "state": {
            "_dom_classes": [],
            "_model_module": "@jupyter-widgets/output",
            "_model_module_version": "1.0.0",
            "_model_name": "OutputModel",
            "_view_count": null,
            "_view_module": "@jupyter-widgets/output",
            "_view_module_version": "1.0.0",
            "_view_name": "OutputView",
            "layout": "IPY_MODEL_c300e2b4ee274c97a4ad8f500dfe36f4",
            "msg_id": "",
            "outputs": [
              {
                "output_type": "display_data",
                "data": {
                  "text/plain": "\u001b[32m⠦\u001b[0m Unpacking sky130_fd_sc_hd.tar.zst…\n",
                  "text/html": "<pre style=\"white-space:pre;overflow-x:auto;line-height:normal;font-family:Menlo,'DejaVu Sans Mono',consolas,'Courier New',monospace\"><span style=\"color: #008000; text-decoration-color: #008000\">⠦</span> Unpacking sky130_fd_sc_hd.tar.zst…\n</pre>\n"
                },
                "metadata": {}
              }
            ]
          }
        },
        "c300e2b4ee274c97a4ad8f500dfe36f4": {
          "model_module": "@jupyter-widgets/base",
          "model_name": "LayoutModel",
          "model_module_version": "1.2.0",
          "state": {
            "_model_module": "@jupyter-widgets/base",
            "_model_module_version": "1.2.0",
            "_model_name": "LayoutModel",
            "_view_count": null,
            "_view_module": "@jupyter-widgets/base",
            "_view_module_version": "1.2.0",
            "_view_name": "LayoutView",
            "align_content": null,
            "align_items": null,
            "align_self": null,
            "border": null,
            "bottom": null,
            "display": null,
            "flex": null,
            "flex_flow": null,
            "grid_area": null,
            "grid_auto_columns": null,
            "grid_auto_flow": null,
            "grid_auto_rows": null,
            "grid_column": null,
            "grid_gap": null,
            "grid_row": null,
            "grid_template_areas": null,
            "grid_template_columns": null,
            "grid_template_rows": null,
            "height": null,
            "justify_content": null,
            "justify_items": null,
            "left": null,
            "margin": null,
            "max_height": null,
            "max_width": null,
            "min_height": null,
            "min_width": null,
            "object_fit": null,
            "object_position": null,
            "order": null,
            "overflow": null,
            "overflow_x": null,
            "overflow_y": null,
            "padding": null,
            "right": null,
            "top": null,
            "visibility": null,
            "width": null
          }
        },
        "89474c11b2a241bdbb1f37c15b78de2b": {
          "model_module": "@jupyter-widgets/output",
          "model_name": "OutputModel",
          "model_module_version": "1.0.0",
          "state": {
            "_dom_classes": [],
            "_model_module": "@jupyter-widgets/output",
            "_model_module_version": "1.0.0",
            "_model_name": "OutputModel",
            "_view_count": null,
            "_view_module": "@jupyter-widgets/output",
            "_view_module_version": "1.0.0",
            "_view_name": "OutputView",
            "layout": "IPY_MODEL_ce68fe1bc4e7487483f4bbc151445f49",
            "msg_id": "",
            "outputs": [
              {
                "output_type": "display_data",
                "data": {
                  "text/plain": "Downloading sky130_fd_sc_hvl.tar.zst… \u001b[38;2;249;38;114m━━━━━━━━━━━━━━━━━━━━━━━━━━━━━━━━━━━━\u001b[0m\u001b[38;2;249;38;114m╸\u001b[0m\u001b[38;5;237m━━━\u001b[0m \u001b[35m 92%\u001b[0m \u001b[36m0:00:01\u001b[0m\n",
                  "text/html": "<pre style=\"white-space:pre;overflow-x:auto;line-height:normal;font-family:Menlo,'DejaVu Sans Mono',consolas,'Courier New',monospace\">Downloading sky130_fd_sc_hvl.tar.zst… <span style=\"color: #f92672; text-decoration-color: #f92672\">━━━━━━━━━━━━━━━━━━━━━━━━━━━━━━━━━━━━╸</span><span style=\"color: #3a3a3a; text-decoration-color: #3a3a3a\">━━━</span> <span style=\"color: #800080; text-decoration-color: #800080\"> 92%</span> <span style=\"color: #008080; text-decoration-color: #008080\">0:00:01</span>\n</pre>\n"
                },
                "metadata": {}
              }
            ]
          }
        },
        "ce68fe1bc4e7487483f4bbc151445f49": {
          "model_module": "@jupyter-widgets/base",
          "model_name": "LayoutModel",
          "model_module_version": "1.2.0",
          "state": {
            "_model_module": "@jupyter-widgets/base",
            "_model_module_version": "1.2.0",
            "_model_name": "LayoutModel",
            "_view_count": null,
            "_view_module": "@jupyter-widgets/base",
            "_view_module_version": "1.2.0",
            "_view_name": "LayoutView",
            "align_content": null,
            "align_items": null,
            "align_self": null,
            "border": null,
            "bottom": null,
            "display": null,
            "flex": null,
            "flex_flow": null,
            "grid_area": null,
            "grid_auto_columns": null,
            "grid_auto_flow": null,
            "grid_auto_rows": null,
            "grid_column": null,
            "grid_gap": null,
            "grid_row": null,
            "grid_template_areas": null,
            "grid_template_columns": null,
            "grid_template_rows": null,
            "height": null,
            "justify_content": null,
            "justify_items": null,
            "left": null,
            "margin": null,
            "max_height": null,
            "max_width": null,
            "min_height": null,
            "min_width": null,
            "object_fit": null,
            "object_position": null,
            "order": null,
            "overflow": null,
            "overflow_x": null,
            "overflow_y": null,
            "padding": null,
            "right": null,
            "top": null,
            "visibility": null,
            "width": null
          }
        },
        "f810f4fc8d714bf1acc5b4becc179cce": {
          "model_module": "@jupyter-widgets/output",
          "model_name": "OutputModel",
          "model_module_version": "1.0.0",
          "state": {
            "_dom_classes": [],
            "_model_module": "@jupyter-widgets/output",
            "_model_module_version": "1.0.0",
            "_model_name": "OutputModel",
            "_view_count": null,
            "_view_module": "@jupyter-widgets/output",
            "_view_module_version": "1.0.0",
            "_view_name": "OutputView",
            "layout": "IPY_MODEL_a4e416b6beec461295dee7dd25a02c69",
            "msg_id": "",
            "outputs": [
              {
                "output_type": "display_data",
                "data": {
                  "text/plain": "\u001b[32m⠙\u001b[0m Unpacking sky130_fd_sc_hvl.tar.zst…\n",
                  "text/html": "<pre style=\"white-space:pre;overflow-x:auto;line-height:normal;font-family:Menlo,'DejaVu Sans Mono',consolas,'Courier New',monospace\"><span style=\"color: #008000; text-decoration-color: #008000\">⠙</span> Unpacking sky130_fd_sc_hvl.tar.zst…\n</pre>\n"
                },
                "metadata": {}
              }
            ]
          }
        },
        "a4e416b6beec461295dee7dd25a02c69": {
          "model_module": "@jupyter-widgets/base",
          "model_name": "LayoutModel",
          "model_module_version": "1.2.0",
          "state": {
            "_model_module": "@jupyter-widgets/base",
            "_model_module_version": "1.2.0",
            "_model_name": "LayoutModel",
            "_view_count": null,
            "_view_module": "@jupyter-widgets/base",
            "_view_module_version": "1.2.0",
            "_view_name": "LayoutView",
            "align_content": null,
            "align_items": null,
            "align_self": null,
            "border": null,
            "bottom": null,
            "display": null,
            "flex": null,
            "flex_flow": null,
            "grid_area": null,
            "grid_auto_columns": null,
            "grid_auto_flow": null,
            "grid_auto_rows": null,
            "grid_column": null,
            "grid_gap": null,
            "grid_row": null,
            "grid_template_areas": null,
            "grid_template_columns": null,
            "grid_template_rows": null,
            "height": null,
            "justify_content": null,
            "justify_items": null,
            "left": null,
            "margin": null,
            "max_height": null,
            "max_width": null,
            "min_height": null,
            "min_width": null,
            "object_fit": null,
            "object_position": null,
            "order": null,
            "overflow": null,
            "overflow_x": null,
            "overflow_y": null,
            "padding": null,
            "right": null,
            "top": null,
            "visibility": null,
            "width": null
          }
        },
        "1564beab0946423592dde38465f2b069": {
          "model_module": "@jupyter-widgets/output",
          "model_name": "OutputModel",
          "model_module_version": "1.0.0",
          "state": {
            "_dom_classes": [],
            "_model_module": "@jupyter-widgets/output",
            "_model_module_version": "1.0.0",
            "_model_name": "OutputModel",
            "_view_count": null,
            "_view_module": "@jupyter-widgets/output",
            "_view_module_version": "1.0.0",
            "_view_name": "OutputView",
            "layout": "IPY_MODEL_db1ca385a566428c878228d4a81228a9",
            "msg_id": "",
            "outputs": [
              {
                "output_type": "display_data",
                "data": {
                  "text/plain": "Downloading sky130_ml_xx_hd.tar.zst… \u001b[38;5;237m━━━━━━━━━━━━━━━━━━━━━━━━━━━━━━━━━━━━━━━━\u001b[0m \u001b[35m  0%\u001b[0m \u001b[36m-:--:--\u001b[0m\n",
                  "text/html": "<pre style=\"white-space:pre;overflow-x:auto;line-height:normal;font-family:Menlo,'DejaVu Sans Mono',consolas,'Courier New',monospace\">Downloading sky130_ml_xx_hd.tar.zst… <span style=\"color: #3a3a3a; text-decoration-color: #3a3a3a\">━━━━━━━━━━━━━━━━━━━━━━━━━━━━━━━━━━━━━━━━</span> <span style=\"color: #800080; text-decoration-color: #800080\">  0%</span> <span style=\"color: #008080; text-decoration-color: #008080\">-:--:--</span>\n</pre>\n"
                },
                "metadata": {}
              }
            ]
          }
        },
        "db1ca385a566428c878228d4a81228a9": {
          "model_module": "@jupyter-widgets/base",
          "model_name": "LayoutModel",
          "model_module_version": "1.2.0",
          "state": {
            "_model_module": "@jupyter-widgets/base",
            "_model_module_version": "1.2.0",
            "_model_name": "LayoutModel",
            "_view_count": null,
            "_view_module": "@jupyter-widgets/base",
            "_view_module_version": "1.2.0",
            "_view_name": "LayoutView",
            "align_content": null,
            "align_items": null,
            "align_self": null,
            "border": null,
            "bottom": null,
            "display": null,
            "flex": null,
            "flex_flow": null,
            "grid_area": null,
            "grid_auto_columns": null,
            "grid_auto_flow": null,
            "grid_auto_rows": null,
            "grid_column": null,
            "grid_gap": null,
            "grid_row": null,
            "grid_template_areas": null,
            "grid_template_columns": null,
            "grid_template_rows": null,
            "height": null,
            "justify_content": null,
            "justify_items": null,
            "left": null,
            "margin": null,
            "max_height": null,
            "max_width": null,
            "min_height": null,
            "min_width": null,
            "object_fit": null,
            "object_position": null,
            "order": null,
            "overflow": null,
            "overflow_x": null,
            "overflow_y": null,
            "padding": null,
            "right": null,
            "top": null,
            "visibility": null,
            "width": null
          }
        },
        "9c8b83fe02f44860b07b73a6acef5b63": {
          "model_module": "@jupyter-widgets/output",
          "model_name": "OutputModel",
          "model_module_version": "1.0.0",
          "state": {
            "_dom_classes": [],
            "_model_module": "@jupyter-widgets/output",
            "_model_module_version": "1.0.0",
            "_model_name": "OutputModel",
            "_view_count": null,
            "_view_module": "@jupyter-widgets/output",
            "_view_module_version": "1.0.0",
            "_view_name": "OutputView",
            "layout": "IPY_MODEL_356fb94ea5d04a3f830f28e60069e6f1",
            "msg_id": "",
            "outputs": [
              {
                "output_type": "display_data",
                "data": {
                  "text/plain": "Downloading sky130_sram_macros.tar.zst… \u001b[38;2;249;38;114m━━━━━━━━━━━━━━━━━━━━━━━━━━━━━━━━\u001b[0m\u001b[38;5;237m╺\u001b[0m\u001b[38;5;237m━━━━━━━\u001b[0m \u001b[35m 81%\u001b[0m \u001b[36m0:00:01\u001b[0m\n",
                  "text/html": "<pre style=\"white-space:pre;overflow-x:auto;line-height:normal;font-family:Menlo,'DejaVu Sans Mono',consolas,'Courier New',monospace\">Downloading sky130_sram_macros.tar.zst… <span style=\"color: #f92672; text-decoration-color: #f92672\">━━━━━━━━━━━━━━━━━━━━━━━━━━━━━━━━</span><span style=\"color: #3a3a3a; text-decoration-color: #3a3a3a\">╺━━━━━━━</span> <span style=\"color: #800080; text-decoration-color: #800080\"> 81%</span> <span style=\"color: #008080; text-decoration-color: #008080\">0:00:01</span>\n</pre>\n"
                },
                "metadata": {}
              }
            ]
          }
        },
        "356fb94ea5d04a3f830f28e60069e6f1": {
          "model_module": "@jupyter-widgets/base",
          "model_name": "LayoutModel",
          "model_module_version": "1.2.0",
          "state": {
            "_model_module": "@jupyter-widgets/base",
            "_model_module_version": "1.2.0",
            "_model_name": "LayoutModel",
            "_view_count": null,
            "_view_module": "@jupyter-widgets/base",
            "_view_module_version": "1.2.0",
            "_view_name": "LayoutView",
            "align_content": null,
            "align_items": null,
            "align_self": null,
            "border": null,
            "bottom": null,
            "display": null,
            "flex": null,
            "flex_flow": null,
            "grid_area": null,
            "grid_auto_columns": null,
            "grid_auto_flow": null,
            "grid_auto_rows": null,
            "grid_column": null,
            "grid_gap": null,
            "grid_row": null,
            "grid_template_areas": null,
            "grid_template_columns": null,
            "grid_template_rows": null,
            "height": null,
            "justify_content": null,
            "justify_items": null,
            "left": null,
            "margin": null,
            "max_height": null,
            "max_width": null,
            "min_height": null,
            "min_width": null,
            "object_fit": null,
            "object_position": null,
            "order": null,
            "overflow": null,
            "overflow_x": null,
            "overflow_y": null,
            "padding": null,
            "right": null,
            "top": null,
            "visibility": null,
            "width": null
          }
        },
        "43bfb78c19984cea913b1d9db1e91e11": {
          "model_module": "@jupyter-widgets/output",
          "model_name": "OutputModel",
          "model_module_version": "1.0.0",
          "state": {
            "_dom_classes": [],
            "_model_module": "@jupyter-widgets/output",
            "_model_module_version": "1.0.0",
            "_model_name": "OutputModel",
            "_view_count": null,
            "_view_module": "@jupyter-widgets/output",
            "_view_module_version": "1.0.0",
            "_view_name": "OutputView",
            "layout": "IPY_MODEL_13cd4f84043742e9b8b407033a34ca61",
            "msg_id": "",
            "outputs": [
              {
                "output_type": "display_data",
                "data": {
                  "text/plain": "\u001b[32m⠹\u001b[0m Unpacking sky130_sram_macros.tar.zst…\n",
                  "text/html": "<pre style=\"white-space:pre;overflow-x:auto;line-height:normal;font-family:Menlo,'DejaVu Sans Mono',consolas,'Courier New',monospace\"><span style=\"color: #008000; text-decoration-color: #008000\">⠹</span> Unpacking sky130_sram_macros.tar.zst…\n</pre>\n"
                },
                "metadata": {}
              }
            ]
          }
        },
        "13cd4f84043742e9b8b407033a34ca61": {
          "model_module": "@jupyter-widgets/base",
          "model_name": "LayoutModel",
          "model_module_version": "1.2.0",
          "state": {
            "_model_module": "@jupyter-widgets/base",
            "_model_module_version": "1.2.0",
            "_model_name": "LayoutModel",
            "_view_count": null,
            "_view_module": "@jupyter-widgets/base",
            "_view_module_version": "1.2.0",
            "_view_name": "LayoutView",
            "align_content": null,
            "align_items": null,
            "align_self": null,
            "border": null,
            "bottom": null,
            "display": null,
            "flex": null,
            "flex_flow": null,
            "grid_area": null,
            "grid_auto_columns": null,
            "grid_auto_flow": null,
            "grid_auto_rows": null,
            "grid_column": null,
            "grid_gap": null,
            "grid_row": null,
            "grid_template_areas": null,
            "grid_template_columns": null,
            "grid_template_rows": null,
            "height": null,
            "justify_content": null,
            "justify_items": null,
            "left": null,
            "margin": null,
            "max_height": null,
            "max_width": null,
            "min_height": null,
            "min_width": null,
            "object_fit": null,
            "object_position": null,
            "order": null,
            "overflow": null,
            "overflow_x": null,
            "overflow_y": null,
            "padding": null,
            "right": null,
            "top": null,
            "visibility": null,
            "width": null
          }
        }
      }
    }
  },
  "nbformat": 4,
  "nbformat_minor": 0
}